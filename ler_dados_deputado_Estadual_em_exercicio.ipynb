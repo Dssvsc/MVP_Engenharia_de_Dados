{
 "cells": [
  {
   "cell_type": "markdown",
   "metadata": {},
   "source": [
    "INSTALANDO BLIBLIOTECAS"
   ]
  },
  {
   "cell_type": "code",
   "execution_count": 1,
   "metadata": {},
   "outputs": [
    {
     "name": "stdout",
     "output_type": "stream",
     "text": [
      "Requirement already satisfied: requests in c:\\users\\denilson\\appdata\\local\\programs\\python\\python312\\lib\\site-packages (2.31.0)\n",
      "Requirement already satisfied: rq in c:\\users\\denilson\\appdata\\local\\programs\\python\\python312\\lib\\site-packages (1.16.2)\n",
      "Requirement already satisfied: charset-normalizer<4,>=2 in c:\\users\\denilson\\appdata\\local\\programs\\python\\python312\\lib\\site-packages (from requests) (3.3.2)\n",
      "Requirement already satisfied: idna<4,>=2.5 in c:\\users\\denilson\\appdata\\local\\programs\\python\\python312\\lib\\site-packages (from requests) (3.7)\n",
      "Requirement already satisfied: urllib3<3,>=1.21.1 in c:\\users\\denilson\\appdata\\local\\programs\\python\\python312\\lib\\site-packages (from requests) (2.2.1)\n",
      "Requirement already satisfied: certifi>=2017.4.17 in c:\\users\\denilson\\appdata\\local\\programs\\python\\python312\\lib\\site-packages (from requests) (2024.2.2)\n",
      "Requirement already satisfied: click>=5 in c:\\users\\denilson\\appdata\\local\\programs\\python\\python312\\lib\\site-packages (from rq) (8.1.7)\n",
      "Requirement already satisfied: redis>=3.5 in c:\\users\\denilson\\appdata\\local\\programs\\python\\python312\\lib\\site-packages (from rq) (5.0.5)\n",
      "Requirement already satisfied: colorama in c:\\users\\denilson\\appdata\\roaming\\python\\python312\\site-packages (from click>=5->rq) (0.4.6)\n"
     ]
    },
    {
     "name": "stderr",
     "output_type": "stream",
     "text": [
      "\n",
      "[notice] A new release of pip is available: 24.0 -> 24.1.1\n",
      "[notice] To update, run: python.exe -m pip install --upgrade pip\n"
     ]
    },
    {
     "name": "stdout",
     "output_type": "stream",
     "text": [
      "Requirement already satisfied: selenium in c:\\users\\denilson\\appdata\\local\\programs\\python\\python312\\lib\\site-packages (4.21.0)\n",
      "Requirement already satisfied: urllib3<3,>=1.26 in c:\\users\\denilson\\appdata\\local\\programs\\python\\python312\\lib\\site-packages (from urllib3[socks]<3,>=1.26->selenium) (2.2.1)\n",
      "Requirement already satisfied: trio~=0.17 in c:\\users\\denilson\\appdata\\local\\programs\\python\\python312\\lib\\site-packages (from selenium) (0.25.1)\n",
      "Requirement already satisfied: trio-websocket~=0.9 in c:\\users\\denilson\\appdata\\local\\programs\\python\\python312\\lib\\site-packages (from selenium) (0.11.1)\n",
      "Requirement already satisfied: certifi>=2021.10.8 in c:\\users\\denilson\\appdata\\local\\programs\\python\\python312\\lib\\site-packages (from selenium) (2024.2.2)\n",
      "Requirement already satisfied: typing_extensions>=4.9.0 in c:\\users\\denilson\\appdata\\local\\programs\\python\\python312\\lib\\site-packages (from selenium) (4.11.0)\n",
      "Requirement already satisfied: attrs>=23.2.0 in c:\\users\\denilson\\appdata\\local\\programs\\python\\python312\\lib\\site-packages (from trio~=0.17->selenium) (23.2.0)\n",
      "Requirement already satisfied: sortedcontainers in c:\\users\\denilson\\appdata\\local\\programs\\python\\python312\\lib\\site-packages (from trio~=0.17->selenium) (2.4.0)\n",
      "Requirement already satisfied: idna in c:\\users\\denilson\\appdata\\local\\programs\\python\\python312\\lib\\site-packages (from trio~=0.17->selenium) (3.7)\n",
      "Requirement already satisfied: outcome in c:\\users\\denilson\\appdata\\local\\programs\\python\\python312\\lib\\site-packages (from trio~=0.17->selenium) (1.3.0.post0)\n",
      "Requirement already satisfied: sniffio>=1.3.0 in c:\\users\\denilson\\appdata\\local\\programs\\python\\python312\\lib\\site-packages (from trio~=0.17->selenium) (1.3.1)\n",
      "Requirement already satisfied: cffi>=1.14 in c:\\users\\denilson\\appdata\\local\\programs\\python\\python312\\lib\\site-packages (from trio~=0.17->selenium) (1.16.0)\n",
      "Requirement already satisfied: wsproto>=0.14 in c:\\users\\denilson\\appdata\\local\\programs\\python\\python312\\lib\\site-packages (from trio-websocket~=0.9->selenium) (1.2.0)\n",
      "Requirement already satisfied: pysocks!=1.5.7,<2.0,>=1.5.6 in c:\\users\\denilson\\appdata\\local\\programs\\python\\python312\\lib\\site-packages (from urllib3[socks]<3,>=1.26->selenium) (1.7.1)\n",
      "Requirement already satisfied: pycparser in c:\\users\\denilson\\appdata\\local\\programs\\python\\python312\\lib\\site-packages (from cffi>=1.14->trio~=0.17->selenium) (2.22)\n",
      "Requirement already satisfied: h11<1,>=0.9.0 in c:\\users\\denilson\\appdata\\local\\programs\\python\\python312\\lib\\site-packages (from wsproto>=0.14->trio-websocket~=0.9->selenium) (0.14.0)\n"
     ]
    },
    {
     "name": "stderr",
     "output_type": "stream",
     "text": [
      "\n",
      "[notice] A new release of pip is available: 24.0 -> 24.1.1\n",
      "[notice] To update, run: python.exe -m pip install --upgrade pip\n",
      "'apt-get' n�o � reconhecido como um comando interno\n",
      "ou externo, um programa oper�vel ou um arquivo em lotes.\n",
      "'apt' n�o � reconhecido como um comando interno\n",
      "ou externo, um programa oper�vel ou um arquivo em lotes.\n",
      "'cp' n�o � reconhecido como um comando interno\n",
      "ou externo, um programa oper�vel ou um arquivo em lotes.\n"
     ]
    },
    {
     "name": "stdout",
     "output_type": "stream",
     "text": [
      "Requirement already satisfied: pandas in c:\\users\\denilson\\appdata\\local\\programs\\python\\python312\\lib\\site-packages (2.2.2)\n",
      "Requirement already satisfied: numpy>=1.26.0 in c:\\users\\denilson\\appdata\\local\\programs\\python\\python312\\lib\\site-packages (from pandas) (1.26.4)\n",
      "Requirement already satisfied: python-dateutil>=2.8.2 in c:\\users\\denilson\\appdata\\roaming\\python\\python312\\site-packages (from pandas) (2.9.0.post0)\n",
      "Requirement already satisfied: pytz>=2020.1 in c:\\users\\denilson\\appdata\\local\\programs\\python\\python312\\lib\\site-packages (from pandas) (2024.1)\n",
      "Requirement already satisfied: tzdata>=2022.7 in c:\\users\\denilson\\appdata\\local\\programs\\python\\python312\\lib\\site-packages (from pandas) (2024.1)\n",
      "Requirement already satisfied: six>=1.5 in c:\\users\\denilson\\appdata\\roaming\\python\\python312\\site-packages (from python-dateutil>=2.8.2->pandas) (1.16.0)\n"
     ]
    },
    {
     "name": "stderr",
     "output_type": "stream",
     "text": [
      "\n",
      "[notice] A new release of pip is available: 24.0 -> 24.1.1\n",
      "[notice] To update, run: python.exe -m pip install --upgrade pip\n"
     ]
    },
    {
     "name": "stdout",
     "output_type": "stream",
     "text": [
      "Requirement already satisfied: pandas_gbq in c:\\users\\denilson\\appdata\\local\\programs\\python\\python312\\lib\\site-packages (0.23.1)\n",
      "Requirement already satisfied: setuptools in c:\\users\\denilson\\appdata\\local\\programs\\python\\python312\\lib\\site-packages (from pandas_gbq) (70.1.0)\n",
      "Requirement already satisfied: db-dtypes<2.0.0,>=1.0.4 in c:\\users\\denilson\\appdata\\local\\programs\\python\\python312\\lib\\site-packages (from pandas_gbq) (1.2.0)\n",
      "Requirement already satisfied: numpy>=1.16.6 in c:\\users\\denilson\\appdata\\local\\programs\\python\\python312\\lib\\site-packages (from pandas_gbq) (1.26.4)\n",
      "Requirement already satisfied: pandas>=1.1.4 in c:\\users\\denilson\\appdata\\local\\programs\\python\\python312\\lib\\site-packages (from pandas_gbq) (2.2.2)\n",
      "Requirement already satisfied: pyarrow>=3.0.0 in c:\\users\\denilson\\appdata\\local\\programs\\python\\python312\\lib\\site-packages (from pandas_gbq) (16.1.0)\n",
      "Requirement already satisfied: pydata-google-auth>=1.5.0 in c:\\users\\denilson\\appdata\\local\\programs\\python\\python312\\lib\\site-packages (from pandas_gbq) (1.8.2)\n",
      "Requirement already satisfied: google-api-core<3.0.0dev,>=2.10.2 in c:\\users\\denilson\\appdata\\local\\programs\\python\\python312\\lib\\site-packages (from pandas_gbq) (2.19.0)\n",
      "Requirement already satisfied: google-auth>=2.13.0 in c:\\users\\denilson\\appdata\\local\\programs\\python\\python312\\lib\\site-packages (from pandas_gbq) (2.30.0)\n",
      "Requirement already satisfied: google-auth-oauthlib>=0.7.0 in c:\\users\\denilson\\appdata\\local\\programs\\python\\python312\\lib\\site-packages (from pandas_gbq) (1.2.0)\n",
      "Requirement already satisfied: google-cloud-bigquery<4.0.0dev,>=3.3.5 in c:\\users\\denilson\\appdata\\local\\programs\\python\\python312\\lib\\site-packages (from pandas_gbq) (3.24.0)\n",
      "Requirement already satisfied: packaging>=20.0.0 in c:\\users\\denilson\\appdata\\roaming\\python\\python312\\site-packages (from pandas_gbq) (24.0)\n",
      "Requirement already satisfied: googleapis-common-protos<2.0.dev0,>=1.56.2 in c:\\users\\denilson\\appdata\\local\\programs\\python\\python312\\lib\\site-packages (from google-api-core<3.0.0dev,>=2.10.2->pandas_gbq) (1.63.1)\n",
      "Requirement already satisfied: protobuf!=3.20.0,!=3.20.1,!=4.21.0,!=4.21.1,!=4.21.2,!=4.21.3,!=4.21.4,!=4.21.5,<5.0.0.dev0,>=3.19.5 in c:\\users\\denilson\\appdata\\local\\programs\\python\\python312\\lib\\site-packages (from google-api-core<3.0.0dev,>=2.10.2->pandas_gbq) (4.25.3)\n",
      "Requirement already satisfied: proto-plus<2.0.0dev,>=1.22.3 in c:\\users\\denilson\\appdata\\local\\programs\\python\\python312\\lib\\site-packages (from google-api-core<3.0.0dev,>=2.10.2->pandas_gbq) (1.24.0)\n",
      "Requirement already satisfied: requests<3.0.0.dev0,>=2.18.0 in c:\\users\\denilson\\appdata\\local\\programs\\python\\python312\\lib\\site-packages (from google-api-core<3.0.0dev,>=2.10.2->pandas_gbq) (2.31.0)\n",
      "Requirement already satisfied: cachetools<6.0,>=2.0.0 in c:\\users\\denilson\\appdata\\local\\programs\\python\\python312\\lib\\site-packages (from google-auth>=2.13.0->pandas_gbq) (5.3.3)\n",
      "Requirement already satisfied: pyasn1-modules>=0.2.1 in c:\\users\\denilson\\appdata\\local\\programs\\python\\python312\\lib\\site-packages (from google-auth>=2.13.0->pandas_gbq) (0.4.0)\n",
      "Requirement already satisfied: rsa<5,>=3.1.4 in c:\\users\\denilson\\appdata\\local\\programs\\python\\python312\\lib\\site-packages (from google-auth>=2.13.0->pandas_gbq) (4.9)\n",
      "Requirement already satisfied: requests-oauthlib>=0.7.0 in c:\\users\\denilson\\appdata\\local\\programs\\python\\python312\\lib\\site-packages (from google-auth-oauthlib>=0.7.0->pandas_gbq) (2.0.0)\n",
      "Requirement already satisfied: google-cloud-core<3.0.0dev,>=1.6.0 in c:\\users\\denilson\\appdata\\local\\programs\\python\\python312\\lib\\site-packages (from google-cloud-bigquery<4.0.0dev,>=3.3.5->pandas_gbq) (2.4.1)\n",
      "Requirement already satisfied: google-resumable-media<3.0dev,>=0.6.0 in c:\\users\\denilson\\appdata\\local\\programs\\python\\python312\\lib\\site-packages (from google-cloud-bigquery<4.0.0dev,>=3.3.5->pandas_gbq) (2.7.1)\n",
      "Requirement already satisfied: python-dateutil<3.0dev,>=2.7.2 in c:\\users\\denilson\\appdata\\roaming\\python\\python312\\site-packages (from google-cloud-bigquery<4.0.0dev,>=3.3.5->pandas_gbq) (2.9.0.post0)\n",
      "Requirement already satisfied: pytz>=2020.1 in c:\\users\\denilson\\appdata\\local\\programs\\python\\python312\\lib\\site-packages (from pandas>=1.1.4->pandas_gbq) (2024.1)\n",
      "Requirement already satisfied: tzdata>=2022.7 in c:\\users\\denilson\\appdata\\local\\programs\\python\\python312\\lib\\site-packages (from pandas>=1.1.4->pandas_gbq) (2024.1)\n",
      "Requirement already satisfied: grpcio<2.0dev,>=1.33.2 in c:\\users\\denilson\\appdata\\local\\programs\\python\\python312\\lib\\site-packages (from google-api-core[grpc]!=2.0.*,!=2.1.*,!=2.10.*,!=2.2.*,!=2.3.*,!=2.4.*,!=2.5.*,!=2.6.*,!=2.7.*,!=2.8.*,!=2.9.*,<3.0.0dev,>=1.34.1->google-cloud-bigquery<4.0.0dev,>=3.3.5->pandas_gbq) (1.64.1)\n",
      "Requirement already satisfied: grpcio-status<2.0.dev0,>=1.33.2 in c:\\users\\denilson\\appdata\\local\\programs\\python\\python312\\lib\\site-packages (from google-api-core[grpc]!=2.0.*,!=2.1.*,!=2.10.*,!=2.2.*,!=2.3.*,!=2.4.*,!=2.5.*,!=2.6.*,!=2.7.*,!=2.8.*,!=2.9.*,<3.0.0dev,>=1.34.1->google-cloud-bigquery<4.0.0dev,>=3.3.5->pandas_gbq) (1.62.2)\n",
      "Requirement already satisfied: google-crc32c<2.0dev,>=1.0 in c:\\users\\denilson\\appdata\\local\\programs\\python\\python312\\lib\\site-packages (from google-resumable-media<3.0dev,>=0.6.0->google-cloud-bigquery<4.0.0dev,>=3.3.5->pandas_gbq) (1.5.0)\n",
      "Requirement already satisfied: pyasn1<0.7.0,>=0.4.6 in c:\\users\\denilson\\appdata\\local\\programs\\python\\python312\\lib\\site-packages (from pyasn1-modules>=0.2.1->google-auth>=2.13.0->pandas_gbq) (0.6.0)\n",
      "Requirement already satisfied: six>=1.5 in c:\\users\\denilson\\appdata\\roaming\\python\\python312\\site-packages (from python-dateutil<3.0dev,>=2.7.2->google-cloud-bigquery<4.0.0dev,>=3.3.5->pandas_gbq) (1.16.0)\n",
      "Requirement already satisfied: charset-normalizer<4,>=2 in c:\\users\\denilson\\appdata\\local\\programs\\python\\python312\\lib\\site-packages (from requests<3.0.0.dev0,>=2.18.0->google-api-core<3.0.0dev,>=2.10.2->pandas_gbq) (3.3.2)\n",
      "Requirement already satisfied: idna<4,>=2.5 in c:\\users\\denilson\\appdata\\local\\programs\\python\\python312\\lib\\site-packages (from requests<3.0.0.dev0,>=2.18.0->google-api-core<3.0.0dev,>=2.10.2->pandas_gbq) (3.7)\n",
      "Requirement already satisfied: urllib3<3,>=1.21.1 in c:\\users\\denilson\\appdata\\local\\programs\\python\\python312\\lib\\site-packages (from requests<3.0.0.dev0,>=2.18.0->google-api-core<3.0.0dev,>=2.10.2->pandas_gbq) (2.2.1)\n",
      "Requirement already satisfied: certifi>=2017.4.17 in c:\\users\\denilson\\appdata\\local\\programs\\python\\python312\\lib\\site-packages (from requests<3.0.0.dev0,>=2.18.0->google-api-core<3.0.0dev,>=2.10.2->pandas_gbq) (2024.2.2)\n",
      "Requirement already satisfied: oauthlib>=3.0.0 in c:\\users\\denilson\\appdata\\local\\programs\\python\\python312\\lib\\site-packages (from requests-oauthlib>=0.7.0->google-auth-oauthlib>=0.7.0->pandas_gbq) (3.2.2)\n"
     ]
    },
    {
     "name": "stderr",
     "output_type": "stream",
     "text": [
      "\n",
      "[notice] A new release of pip is available: 24.0 -> 24.1.1\n",
      "[notice] To update, run: python.exe -m pip install --upgrade pip\n"
     ]
    },
    {
     "name": "stdout",
     "output_type": "stream",
     "text": [
      "Requirement already satisfied: BeautifulSoup4 in c:\\users\\denilson\\appdata\\local\\programs\\python\\python312\\lib\\site-packages (4.12.3)\n",
      "Requirement already satisfied: soupsieve>1.2 in c:\\users\\denilson\\appdata\\local\\programs\\python\\python312\\lib\\site-packages (from BeautifulSoup4) (2.5)\n"
     ]
    },
    {
     "name": "stderr",
     "output_type": "stream",
     "text": [
      "\n",
      "[notice] A new release of pip is available: 24.0 -> 24.1.1\n",
      "[notice] To update, run: python.exe -m pip install --upgrade pip\n"
     ]
    },
    {
     "name": "stdout",
     "output_type": "stream",
     "text": [
      "Requirement already satisfied: google-cloud-bigquery in c:\\users\\denilson\\appdata\\local\\programs\\python\\python312\\lib\\site-packages (3.24.0)\n",
      "Requirement already satisfied: google-api-core!=2.0.*,!=2.1.*,!=2.10.*,!=2.2.*,!=2.3.*,!=2.4.*,!=2.5.*,!=2.6.*,!=2.7.*,!=2.8.*,!=2.9.*,<3.0.0dev,>=1.34.1 in c:\\users\\denilson\\appdata\\local\\programs\\python\\python312\\lib\\site-packages (from google-api-core[grpc]!=2.0.*,!=2.1.*,!=2.10.*,!=2.2.*,!=2.3.*,!=2.4.*,!=2.5.*,!=2.6.*,!=2.7.*,!=2.8.*,!=2.9.*,<3.0.0dev,>=1.34.1->google-cloud-bigquery) (2.19.0)\n",
      "Requirement already satisfied: google-auth<3.0.0dev,>=2.14.1 in c:\\users\\denilson\\appdata\\local\\programs\\python\\python312\\lib\\site-packages (from google-cloud-bigquery) (2.30.0)\n",
      "Requirement already satisfied: google-cloud-core<3.0.0dev,>=1.6.0 in c:\\users\\denilson\\appdata\\local\\programs\\python\\python312\\lib\\site-packages (from google-cloud-bigquery) (2.4.1)\n",
      "Requirement already satisfied: google-resumable-media<3.0dev,>=0.6.0 in c:\\users\\denilson\\appdata\\local\\programs\\python\\python312\\lib\\site-packages (from google-cloud-bigquery) (2.7.1)\n",
      "Requirement already satisfied: packaging>=20.0.0 in c:\\users\\denilson\\appdata\\roaming\\python\\python312\\site-packages (from google-cloud-bigquery) (24.0)\n",
      "Requirement already satisfied: python-dateutil<3.0dev,>=2.7.2 in c:\\users\\denilson\\appdata\\roaming\\python\\python312\\site-packages (from google-cloud-bigquery) (2.9.0.post0)\n",
      "Requirement already satisfied: requests<3.0.0dev,>=2.21.0 in c:\\users\\denilson\\appdata\\local\\programs\\python\\python312\\lib\\site-packages (from google-cloud-bigquery) (2.31.0)\n",
      "Requirement already satisfied: googleapis-common-protos<2.0.dev0,>=1.56.2 in c:\\users\\denilson\\appdata\\local\\programs\\python\\python312\\lib\\site-packages (from google-api-core!=2.0.*,!=2.1.*,!=2.10.*,!=2.2.*,!=2.3.*,!=2.4.*,!=2.5.*,!=2.6.*,!=2.7.*,!=2.8.*,!=2.9.*,<3.0.0dev,>=1.34.1->google-api-core[grpc]!=2.0.*,!=2.1.*,!=2.10.*,!=2.2.*,!=2.3.*,!=2.4.*,!=2.5.*,!=2.6.*,!=2.7.*,!=2.8.*,!=2.9.*,<3.0.0dev,>=1.34.1->google-cloud-bigquery) (1.63.1)\n",
      "Requirement already satisfied: protobuf!=3.20.0,!=3.20.1,!=4.21.0,!=4.21.1,!=4.21.2,!=4.21.3,!=4.21.4,!=4.21.5,<5.0.0.dev0,>=3.19.5 in c:\\users\\denilson\\appdata\\local\\programs\\python\\python312\\lib\\site-packages (from google-api-core!=2.0.*,!=2.1.*,!=2.10.*,!=2.2.*,!=2.3.*,!=2.4.*,!=2.5.*,!=2.6.*,!=2.7.*,!=2.8.*,!=2.9.*,<3.0.0dev,>=1.34.1->google-api-core[grpc]!=2.0.*,!=2.1.*,!=2.10.*,!=2.2.*,!=2.3.*,!=2.4.*,!=2.5.*,!=2.6.*,!=2.7.*,!=2.8.*,!=2.9.*,<3.0.0dev,>=1.34.1->google-cloud-bigquery) (4.25.3)\n",
      "Requirement already satisfied: proto-plus<2.0.0dev,>=1.22.3 in c:\\users\\denilson\\appdata\\local\\programs\\python\\python312\\lib\\site-packages (from google-api-core!=2.0.*,!=2.1.*,!=2.10.*,!=2.2.*,!=2.3.*,!=2.4.*,!=2.5.*,!=2.6.*,!=2.7.*,!=2.8.*,!=2.9.*,<3.0.0dev,>=1.34.1->google-api-core[grpc]!=2.0.*,!=2.1.*,!=2.10.*,!=2.2.*,!=2.3.*,!=2.4.*,!=2.5.*,!=2.6.*,!=2.7.*,!=2.8.*,!=2.9.*,<3.0.0dev,>=1.34.1->google-cloud-bigquery) (1.24.0)\n",
      "Requirement already satisfied: grpcio<2.0dev,>=1.33.2 in c:\\users\\denilson\\appdata\\local\\programs\\python\\python312\\lib\\site-packages (from google-api-core[grpc]!=2.0.*,!=2.1.*,!=2.10.*,!=2.2.*,!=2.3.*,!=2.4.*,!=2.5.*,!=2.6.*,!=2.7.*,!=2.8.*,!=2.9.*,<3.0.0dev,>=1.34.1->google-cloud-bigquery) (1.64.1)\n",
      "Requirement already satisfied: grpcio-status<2.0.dev0,>=1.33.2 in c:\\users\\denilson\\appdata\\local\\programs\\python\\python312\\lib\\site-packages (from google-api-core[grpc]!=2.0.*,!=2.1.*,!=2.10.*,!=2.2.*,!=2.3.*,!=2.4.*,!=2.5.*,!=2.6.*,!=2.7.*,!=2.8.*,!=2.9.*,<3.0.0dev,>=1.34.1->google-cloud-bigquery) (1.62.2)\n",
      "Requirement already satisfied: cachetools<6.0,>=2.0.0 in c:\\users\\denilson\\appdata\\local\\programs\\python\\python312\\lib\\site-packages (from google-auth<3.0.0dev,>=2.14.1->google-cloud-bigquery) (5.3.3)\n",
      "Requirement already satisfied: pyasn1-modules>=0.2.1 in c:\\users\\denilson\\appdata\\local\\programs\\python\\python312\\lib\\site-packages (from google-auth<3.0.0dev,>=2.14.1->google-cloud-bigquery) (0.4.0)\n",
      "Requirement already satisfied: rsa<5,>=3.1.4 in c:\\users\\denilson\\appdata\\local\\programs\\python\\python312\\lib\\site-packages (from google-auth<3.0.0dev,>=2.14.1->google-cloud-bigquery) (4.9)\n",
      "Requirement already satisfied: google-crc32c<2.0dev,>=1.0 in c:\\users\\denilson\\appdata\\local\\programs\\python\\python312\\lib\\site-packages (from google-resumable-media<3.0dev,>=0.6.0->google-cloud-bigquery) (1.5.0)\n",
      "Requirement already satisfied: six>=1.5 in c:\\users\\denilson\\appdata\\roaming\\python\\python312\\site-packages (from python-dateutil<3.0dev,>=2.7.2->google-cloud-bigquery) (1.16.0)\n",
      "Requirement already satisfied: charset-normalizer<4,>=2 in c:\\users\\denilson\\appdata\\local\\programs\\python\\python312\\lib\\site-packages (from requests<3.0.0dev,>=2.21.0->google-cloud-bigquery) (3.3.2)\n",
      "Requirement already satisfied: idna<4,>=2.5 in c:\\users\\denilson\\appdata\\local\\programs\\python\\python312\\lib\\site-packages (from requests<3.0.0dev,>=2.21.0->google-cloud-bigquery) (3.7)\n",
      "Requirement already satisfied: urllib3<3,>=1.21.1 in c:\\users\\denilson\\appdata\\local\\programs\\python\\python312\\lib\\site-packages (from requests<3.0.0dev,>=2.21.0->google-cloud-bigquery) (2.2.1)\n",
      "Requirement already satisfied: certifi>=2017.4.17 in c:\\users\\denilson\\appdata\\local\\programs\\python\\python312\\lib\\site-packages (from requests<3.0.0dev,>=2.21.0->google-cloud-bigquery) (2024.2.2)\n",
      "Requirement already satisfied: pyasn1<0.7.0,>=0.4.6 in c:\\users\\denilson\\appdata\\local\\programs\\python\\python312\\lib\\site-packages (from pyasn1-modules>=0.2.1->google-auth<3.0.0dev,>=2.14.1->google-cloud-bigquery) (0.6.0)\n"
     ]
    },
    {
     "name": "stderr",
     "output_type": "stream",
     "text": [
      "\n",
      "[notice] A new release of pip is available: 24.0 -> 24.1.1\n",
      "[notice] To update, run: python.exe -m pip install --upgrade pip\n"
     ]
    },
    {
     "name": "stdout",
     "output_type": "stream",
     "text": [
      "Requirement already satisfied: hdbcli in c:\\users\\denilson\\appdata\\local\\programs\\python\\python312\\lib\\site-packages (2.21.26)\n"
     ]
    },
    {
     "name": "stderr",
     "output_type": "stream",
     "text": [
      "\n",
      "[notice] A new release of pip is available: 24.0 -> 24.1.1\n",
      "[notice] To update, run: python.exe -m pip install --upgrade pip\n"
     ]
    },
    {
     "name": "stdout",
     "output_type": "stream",
     "text": [
      "Requirement already satisfied: google.cloud in c:\\users\\denilson\\appdata\\local\\programs\\python\\python312\\lib\\site-packages (0.34.0)\n"
     ]
    },
    {
     "name": "stderr",
     "output_type": "stream",
     "text": [
      "\n",
      "[notice] A new release of pip is available: 24.0 -> 24.1.1\n",
      "[notice] To update, run: python.exe -m pip install --upgrade pip\n"
     ]
    }
   ],
   "source": [
    "!pip install requests rq\n",
    "!pip install selenium\n",
    "!apt-get update # to update ubuntu to correctly rum apt install\n",
    "!apt install chromium-chromedriver\n",
    "!cp /usr/lib/chromium-browser/chromedriver /usr/bin\n",
    "!pip install pandas\n",
    "!pip install pandas_gbq\n",
    "#!pip install \n",
    "!pip install BeautifulSoup4\n",
    "!pip install google-cloud-bigquery\n",
    "!pip install hdbcli\n",
    "!pip install google.cloud\n",
    "\n",
    "\n",
    "\n"
   ]
  },
  {
   "cell_type": "markdown",
   "metadata": {},
   "source": [
    "Importando Bibliotecas"
   ]
  },
  {
   "cell_type": "code",
   "execution_count": 2,
   "metadata": {},
   "outputs": [],
   "source": [
    "import requests as rq\n",
    "import pandas as pd\n",
    "import pandas_gbq\n",
    "import csv\n",
    "from bs4 import BeautifulSoup as bs\n",
    "import time\n",
    "from hdbcli import dbapi\n",
    "from google.cloud import bigquery \n",
    "from google.oauth2 import service_account\n",
    "from pandas_gbq import to_gbq\n",
    "from datetime import datetime\n",
    "import time\n",
    "import datetime\n",
    "from datetime import datetime\n",
    "import os\n",
    "import sys\n",
    "from io import StringIO\n"
   ]
  },
  {
   "cell_type": "markdown",
   "metadata": {},
   "source": [
    "DEFINE CREDENCIAIS PARA ACESSO AO BANCO"
   ]
  },
  {
   "cell_type": "code",
   "execution_count": 3,
   "metadata": {},
   "outputs": [
    {
     "name": "stderr",
     "output_type": "stream",
     "text": [
      "<>:2: SyntaxWarning: invalid escape sequence '\\P'\n",
      "<>:2: SyntaxWarning: invalid escape sequence '\\P'\n",
      "C:\\Users\\Denilson\\AppData\\Local\\Temp\\ipykernel_13684\\3955607355.py:2: SyntaxWarning: invalid escape sequence '\\P'\n",
      "  credenciais = \"D:\\PUC\\SPLIT_BANCO_DADOS/mvp_engenharia_dados.json\"\n"
     ]
    }
   ],
   "source": [
    "# Defina o caminho para o arquivo JSON de credenciais\n",
    "credenciais = \"D:\\PUC\\SPLIT_BANCO_DADOS/mvp_engenharia_dados.json\"\n",
    "client = bigquery.Client.from_service_account_json(credenciais)\n",
    "    "
   ]
  },
  {
   "cell_type": "markdown",
   "metadata": {},
   "source": [
    "CRIA TABELA NO BANCO"
   ]
  },
  {
   "cell_type": "code",
   "execution_count": 50,
   "metadata": {},
   "outputs": [],
   "source": [
    "dataset_id = \"DADOS_DEPUTADOS\" \n",
    "table_id = \"ODS_PARLAMENTAR\"\n",
    "schema = [\n",
    "    bigquery.SchemaField(\"ID_DEPUTADO\", \"INTEGER\"),\n",
    "    bigquery.SchemaField(\"NM_NOME\", \"STRING\"),\n",
    "    bigquery.SchemaField(\"SEXO\", \"STRING\"),\n",
    "    bigquery.SchemaField(\"NM_PROFISSAO\", \"STRING\"),\n",
    "    bigquery.SchemaField(\"DT_NASCIMENTO\", \"STRING\"),\n",
    "    bigquery.SchemaField(\"NM_NATURALIDADE\", \"STRING\"),\n",
    "    bigquery.SchemaField(\"NM_FILIACAO\", \"STRING\"),\n",
    "    bigquery.SchemaField(\"DS_MANDATO_ELETIVO\", \"STRING\"),\n",
    "    bigquery.SchemaField(\"NM_URL\", \"STRING\"),\n",
    "    bigquery.SchemaField(\"DS_ESCOLARIDADE\", \"STRING\"),\n",
    "    bigquery.SchemaField(\"DS_STATUS\", \"STRING\")\n",
    "    \n",
    "    # Adicione outras colunas conforme necessário\n",
    "]\n",
    "table_ref = client.dataset(dataset_id).table(table_id)\n",
    "table = bigquery.Table(table_ref, schema=schema)\n",
    "table = client.create_table(table)  # Cria a tabela"
   ]
  },
  {
   "cell_type": "markdown",
   "metadata": {},
   "source": [
    "Funções"
   ]
  },
  {
   "cell_type": "code",
   "execution_count": 4,
   "metadata": {},
   "outputs": [
    {
     "name": "stderr",
     "output_type": "stream",
     "text": [
      "<>:333: SyntaxWarning: invalid escape sequence '\\P'\n",
      "<>:333: SyntaxWarning: invalid escape sequence '\\P'\n",
      "C:\\Users\\Denilson\\AppData\\Local\\Temp\\ipykernel_13684\\3587368178.py:333: SyntaxWarning: invalid escape sequence '\\P'\n",
      "  credenciais = \"D:\\PUC\\SPLIT_BANCO_DADOS/mvp_engenharia_dados.json\"\n"
     ]
    }
   ],
   "source": [
    "# pega parte de string\n",
    "def substr(palavra, start, length):\n",
    "    if start < 0:\n",
    "        start = len(palavra) + start\n",
    "    return palavra[start:start + length]\n",
    "\n",
    "# função para gardar os dados\n",
    "def carrega_dados(dados):\n",
    "\n",
    "#Busca dados de nome Início\n",
    "    nome = dados\n",
    "    inicio = nome.find(\"Nome:\"   ) + 6    \n",
    "    valida_inicio = nome.find(\"Nome:\"   ) \n",
    "    fim = nome.find(\"Profissão:\"   ) -3\n",
    "\n",
    "    dados_nome_completo=str(nome[inicio:fim])\n",
    "    dados_nome=str(nome[inicio:fim])\n",
    "    #print(dados_nome)\n",
    "    if valida_inicio  == -1:\n",
    "        dados_nome = ''\n",
    "        # SE NÃO ACHOU NOME \n",
    "    elif fim == -4:\n",
    "        # SE NÃO ACHOU Profição \n",
    "        fim = nome.find(\"Nascimento:\"   ) -3 \n",
    "        if fim == -4:\n",
    "            # SE NÃO ACHOU Nascimento\n",
    "            fim = nome.find(\"Falecimento:\"   ) -3 \n",
    "            #print(fim)\n",
    "            if fim == -4:\n",
    "                # SE NÃO ACHOU Falecimento\n",
    "                fim = nome.find(\"Filiação:\"   ) -3\n",
    "                if fim == -4:\n",
    "                    # SE NÃO ACHOU Filiação\n",
    "                    fim = nome.find(\"Sexo:\"   ) -3\n",
    "                    if fim == -4:\n",
    "                        # SE SE NÃO ACHOU Sexo \n",
    "                        fim = nome.find(\"Cônjuge:\"   ) -3\n",
    "                        if fim == -4:\n",
    "                            # SE NÃO ACHOU Cônjuge\n",
    "                            fim = nome.find(\"Filhos:\"   ) -3\n",
    "                            if fim == -4:\n",
    "                                # SE NÃO ACHOU Filhos\n",
    "                                fim = nome.find(\"Constituinte:\"   ) -3\n",
    "                                if fim == -4:\n",
    "                                    # SE NÃO ACHOU Constituinte\n",
    "                                    fim = nome.find(\"\\n\"   ) -3\n",
    "                                    dados_nome=str(nome[inicio:fim])\n",
    "                                    campos[0]=dados_nome\n",
    "                                else:\n",
    "                                    dados_nome=str(nome[inicio:fim])\n",
    "                                    campos[0]=dados_nome\n",
    "                        \n",
    "                            else:    \n",
    "                                dados_nome=str(nome[inicio:fim])\n",
    "                                campos[0]=dados_nome\n",
    "                                \n",
    "                        else:\n",
    "                            dados_nome=str(nome[inicio:fim])\n",
    "                            campos[0]=dados_nome\n",
    "                                                        \n",
    "                    else:\n",
    "                        dados_nome=str(nome[inicio:fim])\n",
    "                        campos[0]=dados_nome\n",
    "                        \n",
    "                else:\n",
    "                    dados_nome=str(nome[inicio:fim])\n",
    "                    campos[0]=dados_nome\n",
    "                    \n",
    "            else:\n",
    "                dados_nome=str(nome[inicio:fim])\n",
    "                campos[0]=dados_nome\n",
    "                \n",
    "        else:\n",
    "            dados_nome=str(nome[inicio:fim])\n",
    "            campos[0]=dados_nome  \n",
    "            \n",
    "    else:\n",
    "        campos[0]=dados_nome\n",
    "        #dados_nome=str(nome[inicio:fim])\n",
    "        \n",
    "    # Busca dados de nome Fim\n",
    "\n",
    "    #Busca dados de nascimento Início\n",
    "    nascimento = dados\n",
    "    inicio = nascimento.find(\"Nascimento:\"   ) + 12    \n",
    "    valida_inicio = nascimento.find(\"Nascimento:\"   ) \n",
    "    fim = nascimento.find(\"Falecimento:\"   ) -3\n",
    "    \n",
    "    dados_nascimento_completo=str(nascimento[inicio:fim])\n",
    "    if valida_inicio  == -1:\n",
    "        dados_nascimento = ''\n",
    "        dados_naturalidade = '' \n",
    "        # SE NÃO ACHOU DT NASCIMENTO \n",
    "    elif fim == -4:\n",
    "        # SE NÃO ACHOU DT FALECIMENTO \n",
    "        fim = nascimento.find(\"Filiação:\"   ) -3 \n",
    "        if fim == -4:\n",
    "            # SE NÃO ACHOU FILIACAO\n",
    "            fim = nascimento.find(\"Sexo:\"   ) -3 \n",
    "            \n",
    "            if fim == -4:\n",
    "                # SE NÃO ACHOU sexo\n",
    "                fim = nascimento.find(\"Cônjuge:\"   ) -3\n",
    "                \n",
    "                if fim == -4:\n",
    "                    # SE NÃO ACHOU Conjuge\n",
    "                    fim = nascimento.find(\"Filhos:\"   ) -3\n",
    "                    if fim == -4:\n",
    "                        fim = nascimento.find(\"Constituinte:\"   ) -3\n",
    "                        # SE NÃO ACHO CONSTITUINTE\n",
    "                        if fim == -4:\n",
    "                            fim = nascimento.find(\"\\n\"   ) -3\n",
    "\n",
    "                            dados_nascimento = substr(dados_nascimento_completo, 0, 10)\n",
    "                            campos[1]=dados_nascimento  \n",
    "                            data_obj = datetime.strptime(dados_nascimento, '%d/%m/%Y')\n",
    "                            tamanho = (fim - inicio) - 12  \n",
    "                            naturalidade = substr(dados_nascimento_completo, 12, tamanho)\n",
    "                            campos[2]=naturalidade  \n",
    "                        \n",
    "                    else:\n",
    "                        dados_nascimento = substr(dados_nascimento_completo, 0, 10)\n",
    "                        campos[1]=dados_nascimento  \n",
    "                        data_obj = datetime.strptime(dados_nascimento, '%d/%m/%Y')\n",
    "                        tamanho = (fim - inicio) - 12  \n",
    "                        naturalidade = substr(dados_nascimento_completo, 12, tamanho)\n",
    "                        campos[2]=naturalidade  \n",
    "                    \n",
    "                else:\n",
    "                    dados_nascimento = substr(dados_nascimento_completo, 0, 10)\n",
    "                    campos[1]=dados_nascimento  \n",
    "                    data_obj = datetime.strptime(dados_nascimento, '%d/%m/%Y')\n",
    "                    tamanho = (fim - inicio) - 12  \n",
    "                    naturalidade = substr(dados_nascimento_completo, 12, tamanho)\n",
    "                    campos[2]=naturalidade  \n",
    "                    \n",
    "            else:\n",
    "                dados_nascimento = substr(dados_nascimento_completo, 0, 10)\n",
    "                campos[1]=dados_nascimento  \n",
    "                data_obj = datetime.strptime(dados_nascimento, '%d/%m/%Y')\n",
    "                tamanho = (fim - inicio) - 12  \n",
    "                naturalidade = substr(dados_nascimento_completo, 12, tamanho)\n",
    "                campos[2]=naturalidade  \n",
    "                \n",
    "        else:\n",
    "            dados_nascimento = substr(dados_nascimento_completo, 0, 10)\n",
    "            campos[1]=dados_nascimento  \n",
    "            data_obj = datetime.strptime(dados_nascimento, '%d/%m/%Y')\n",
    "            tamanho = (fim - inicio) - 12  \n",
    "            naturalidade = substr(dados_nascimento_completo, 12, tamanho)\n",
    "            campos[2]=naturalidade  \n",
    "            \n",
    "    else:\n",
    "        dados_nascimento = substr(dados_nascimento_completo, 0, 10)\n",
    "        campos[1]=dados_nascimento\n",
    "        data_obj = datetime.strptime(dados_nascimento, '%d/%m/%Y')\n",
    "        tamanho = (fim - inicio) - 12\n",
    "        naturalidade = substr(dados_nascimento_completo, 12, tamanho)\n",
    "        campos[2]=naturalidade  \n",
    "    # Busca dados de Nascimento Fim\n",
    "    \n",
    "    #Busca dados de profissao Início\n",
    "    profissao = dados\n",
    "    inicio = profissao.find(\"Profissão:\"   ) + 11    \n",
    "    valida_inicio = profissao.find(\"Profissão:\"   ) \n",
    "    fim = profissao.find(\"Nascimento:\"   ) -3\n",
    "\n",
    "    dados_profissao_completo=str(profissao[inicio:fim])\n",
    "    dados_profissao=str(profissao[inicio:fim])\n",
    "    \n",
    "    if valida_inicio  == -1:\n",
    "        dados_profissao = ''\n",
    "        # SE NÃO ACHOU PROFISSAO \n",
    "    elif fim == -4:\n",
    "        # SE NÃO ACHOU NASCIMENTO \n",
    "        fim = profissao.find(\"Falecimento:\"   ) -3 \n",
    "        if fim == -4:\n",
    "            # SE NÃO ACHOU Falecimento\n",
    "            fim = profissao.find(\"Filiação:\"   ) -3 \n",
    "            \n",
    "            if fim == -4:\n",
    "                # SE NÃO ACHOU Filiação\n",
    "                fim = profissao.find(\"Sexo:\"   ) -3\n",
    "                if fim == -4:\n",
    "                    # SE NÃO ACHOU SEXO\n",
    "                    fim = profissao.find(\"Cônjuge:\"   ) -3\n",
    "                    if fim == -4:\n",
    "                        # SE NÃO ACHO Cônjuge\n",
    "                        fim = profissao.find(\"Filhos:\"   ) -3\n",
    "                        if fim == -4:\n",
    "                            # SE NÃO ACHO FILHOS\n",
    "                            fim = profissao.find(\"Constituinte:\"   ) -3\n",
    "                            if fim == -4:\n",
    "                                # SE NÃO ACHO Constituinte\n",
    "                                fim = profissao.find(\"\\n\"   ) -3\n",
    "                                dados_profissao=str(profissao[inicio:fim])\n",
    "                                campos[3]=dados_profissao\n",
    "                                \n",
    "                            else:    \n",
    "                                dados_profissao=str(profissao[inicio:fim])\n",
    "                                campos[3]=dados_profissao\n",
    "                                \n",
    "                        else:\n",
    "                            dados_profissao=str(profissao[inicio:fim])\n",
    "                            campos[3]=dados_profissao\n",
    "                                                        \n",
    "                    else:\n",
    "                        dados_profissao=str(profissao[inicio:fim])\n",
    "                        campos[3]=dados_profissao\n",
    "                        \n",
    "                else:\n",
    "                    dados_profissao=str(nome[inicio:fim])\n",
    "                    campos[3]=dados_profissao\n",
    "                    \n",
    "            else:\n",
    "                dados_profissao=str(profissao[inicio:fim])\n",
    "                campos[3]=dados_profissao\n",
    "                \n",
    "        else:\n",
    "            dados_profissao=str(profissao[inicio:fim])\n",
    "            campos[3]=dados_profissao  \n",
    "            \n",
    "    else:\n",
    "        dados_profissao=str(profissao[inicio:fim])\n",
    "        campos[3]=dados_profissao\n",
    "\n",
    "    # Busca dados de profissão Fim\n",
    "\n",
    "    #Busca dados de Filiação Início\n",
    "    filiacao = dados\n",
    "    inicio = filiacao.find(\"Filiação:\"   ) + 10    \n",
    "    valida_inicio = filiacao.find(\"Filiação:\"   ) \n",
    "    fim = filiacao.find(\"Sexo:\"   ) -3\n",
    "\n",
    "    dados_filiacao_completo=str(filiacao[inicio:fim])\n",
    "    dados_filiacao=str(filiacao[inicio:fim])\n",
    "    \n",
    "    if valida_inicio  == -1:\n",
    "        dados_filiacao = ''\n",
    "        # SE NÃO ACHOU FILIACAO \n",
    "    elif fim == -4:\n",
    "        # SE NÃO ACHOU SEXO \n",
    "        fim = profissao.find(\"Cônjuge:\"   ) -3 \n",
    "        if fim == -4:\n",
    "            # SE NÃO ACHOU Cônjuge\n",
    "            fim = profissao.find(\"Filhos:\"   ) -3 \n",
    "            \n",
    "            if fim == -4:\n",
    "                # SE NÃO ACHOU Filhos\n",
    "                fim = profissao.find(\"Constituinte:\"   ) -3\n",
    "                if fim == -4:\n",
    "                    # SE NÃO ACHOU Constituinte\n",
    "                    fim = filiacao.find(\"\\n\"   ) -3\n",
    "                    dados_filiacao=str(filiacao[inicio:fim])\n",
    "                    campos[4]=dados_filiacao\n",
    "\n",
    "                else:\n",
    "                    dados_filiacao=str(filiacao[inicio:fim])\n",
    "                    campos[4]=dados_filiacao\n",
    "                    \n",
    "            else:\n",
    "                dados_filiacao=str(filiacao[inicio:fim])\n",
    "                campos[4]=dados_filiacao\n",
    "                \n",
    "        else:\n",
    "            dados_filiacao=str(filiacao[inicio:fim])\n",
    "            campos[4]=dados_filiacao  \n",
    "            \n",
    "    else:\n",
    "        campos[4]=dados_filiacao\n",
    "        dados_filiacao=str(filiacao[inicio:fim])\n",
    "        \n",
    "    # Busca dados de Filiação Fim\n",
    "\n",
    "    \n",
    "    #Busca dados de SEXO  Início\n",
    "    sexo = dados\n",
    "    inicio = sexo.find(\"Sexo:\"   ) + 6    \n",
    "    valida_inicio = sexo.find(\"Sexo:\"   ) \n",
    "    fim = sexo.find(\"Estado Civil:\"   ) -3 \n",
    "        \n",
    "    dados_sexo_completo=str(sexo[inicio:fim])\n",
    "    dados_sexo=str(sexo[inicio:fim])\n",
    "    \n",
    "    if valida_inicio  == -1:\n",
    "        dados_sexo = ''\n",
    "        print (\"NÂO ACHOU SEXO\")\n",
    "        # SE NÃO ACHOU SEXO \n",
    "    elif fim == -4:\n",
    "        # SE NÃO ACHOU SEXO \n",
    "        fim = sexo.find(\"Estado Civil:\"   ) -3 \n",
    "        if fim == -4:\n",
    "            # SE NÃO ACHOU Estado Civil\n",
    "            fim = sexo.find(\"Cônjuge:\"   ) -3 \n",
    "            \n",
    "            if fim == -4:\n",
    "                # SE NÃO ACHOU Cônjuge\n",
    "                fim = sexo.find(\"Filhos:\"   ) -3 \n",
    "                if fim == -4:\n",
    "                    # SE NÂO ACHOU Filhos\n",
    "                    fim = sexo.find(\"Constituinte:\"   ) -3\n",
    "                    if fim == -4:\n",
    "                        # SE NÃO ACHOU Constituinte\n",
    "                        fim = sexo.find(\"\\n\"   ) -3\n",
    "                        dados_sexo=str(sexo[inicio:fim])\n",
    "                        #campos[4]=dados_filiacao\n",
    "                        #print(dados_sexo)\n",
    "                    else:\n",
    "                        dados_sexo=str(sexo[inicio:fim])\n",
    "                        #campos[4]=dados_filiacao\n",
    "                        #print(dados_sexo)\n",
    "                else:\n",
    "                    dados_sexo=str(sexo[inicio:fim])\n",
    "                    #campos[4]=dados_filiacao\n",
    "                    #print(dados_sexo)                       \n",
    "            else:\n",
    "                dados_sexo=str(sexo[inicio:fim])\n",
    "                #campos[4]=dados_filiacao\n",
    "                #print(dados_sexo)\n",
    "                \n",
    "        else:\n",
    "            dados_sexo=str(sexo[inicio:fim])\n",
    "            #campos[4]=dados_filiacao  \n",
    "            #print(dados_sexo)\n",
    "    else:\n",
    "        #campos[4]=dados_filiacao\n",
    "        dados_sexo = ''\n",
    "        #print(dados_sexo)\n",
    "        \n",
    "    # Busca dados de SEXO Fim\n",
    "\n",
    "    # Defina o caminho para o arquivo JSON de credenciais\n",
    "    credenciais = \"D:\\PUC\\SPLIT_BANCO_DADOS/mvp_engenharia_dados.json\"\n",
    "    client = bigquery.Client.from_service_account_json(credenciais)\n",
    "    \n",
    "    dataset_id = \"DADOS_DEPUTADOS\" \n",
    "    table_id = \"ODS_PARLAMENTAR\"\n",
    "    schema = [\n",
    "    bigquery.SchemaField(\"ID_DEPUTADO\", \"INTEGER\"),\n",
    "    bigquery.SchemaField(\"NM_NOME\", \"STRING\"),\n",
    "    bigquery.SchemaField(\"SEXO\", \"STRING\"),\n",
    "    bigquery.SchemaField(\"NM_PROFISSAO\", \"STRING\"),\n",
    "    bigquery.SchemaField(\"DT_NASCIMENTO\", \"DATE\"),\n",
    "    bigquery.SchemaField(\"NM_NATURALIDADE\", \"STRING\"),\n",
    "    bigquery.SchemaField(\"NM_FILIACAO\", \"STRING\"),\n",
    "    bigquery.SchemaField(\"DS_MANDATO_ELETIVO\", \"STRING\"),\n",
    "    bigquery.SchemaField(\"NM_URL\", \"STRING\"),\n",
    "    bigquery.SchemaField(\"DS_ESCOLARIDADE\", \"STRING\"),\n",
    "    bigquery.SchemaField(\"DS_STATUS\", \"STRING\")\n",
    "    ]\n",
    "    table_ref = client.dataset(dataset_id).table(table_id)\n",
    "    table = bigquery.Table(table_ref, schema=schema)\n",
    "\n",
    "    rows_to_insert = [\n",
    "    {\"ID_DEPUTADO\": campos[8], \"DS_STATUS\": 'DEPUTADO',  \"NM_NOME\":  campos[0],\"SEXO\": dados_sexo, \"NM_PROFISSAO\":   campos[3], \"DT_NASCIMENTO\": campos[1], \"NM_NATURALIDADE\": campos[2], \"NM_FILIACAO\": campos[4], \"DS_MANDATO_ELETIVO\":  campos[5], \"NM_URL\": campos[7], \"DS_ESCOLARIDADE\":  campos[6] }\n",
    "    ]\n",
    "\n",
    "    #rows_to_insert = [\n",
    "    #{\"ID_DEPUTADO\": deputy_id, \"DS_STATUS\": 'EX-DEPUTADO',  \"NM_NOME\":  dados_nome,\"SEXO\": dados_sexo, \"NM_PROFISSAO\":   dados_profissao, \"DT_NASCIMENTO\": dados_nascimento, \"NM_NATURALIDADE\": naturalidade, \"NM_FILIACAO\": dados_filiacao, \"DS_MANDATO_ELETIVO\": mandato_eletivo_formatado, \"NM_URL\": fields, \"DS_ESCOLARIDADE\":  dados_escolaridade }\n",
    "    #]    \n",
    "    client.insert_rows(table, rows_to_insert)\n",
    "    \n",
    "    "
   ]
  },
  {
   "cell_type": "markdown",
   "metadata": {},
   "source": [
    "Ler Pagina do Deputado"
   ]
  },
  {
   "cell_type": "code",
   "execution_count": 5,
   "metadata": {},
   "outputs": [
    {
     "name": "stderr",
     "output_type": "stream",
     "text": [
      "c:\\Users\\Denilson\\AppData\\Local\\Programs\\Python\\Python312\\Lib\\site-packages\\urllib3\\connectionpool.py:1103: InsecureRequestWarning: Unverified HTTPS request is being made to host 'www.al.ba.gov.br'. Adding certificate verification is strongly advised. See: https://urllib3.readthedocs.io/en/latest/advanced-usage.html#tls-warnings\n",
      "  warnings.warn(\n",
      "c:\\Users\\Denilson\\AppData\\Local\\Programs\\Python\\Python312\\Lib\\site-packages\\urllib3\\connectionpool.py:1103: InsecureRequestWarning: Unverified HTTPS request is being made to host 'www.al.ba.gov.br'. Adding certificate verification is strongly advised. See: https://urllib3.readthedocs.io/en/latest/advanced-usage.html#tls-warnings\n",
      "  warnings.warn(\n",
      "c:\\Users\\Denilson\\AppData\\Local\\Programs\\Python\\Python312\\Lib\\site-packages\\urllib3\\connectionpool.py:1103: InsecureRequestWarning: Unverified HTTPS request is being made to host 'www.al.ba.gov.br'. Adding certificate verification is strongly advised. See: https://urllib3.readthedocs.io/en/latest/advanced-usage.html#tls-warnings\n",
      "  warnings.warn(\n"
     ]
    },
    {
     "name": "stdout",
     "output_type": "stream",
     "text": [
      "Entra na parte de busca sexo\n"
     ]
    },
    {
     "name": "stderr",
     "output_type": "stream",
     "text": [
      "c:\\Users\\Denilson\\AppData\\Local\\Programs\\Python\\Python312\\Lib\\site-packages\\urllib3\\connectionpool.py:1103: InsecureRequestWarning: Unverified HTTPS request is being made to host 'www.al.ba.gov.br'. Adding certificate verification is strongly advised. See: https://urllib3.readthedocs.io/en/latest/advanced-usage.html#tls-warnings\n",
      "  warnings.warn(\n",
      "c:\\Users\\Denilson\\AppData\\Local\\Programs\\Python\\Python312\\Lib\\site-packages\\urllib3\\connectionpool.py:1103: InsecureRequestWarning: Unverified HTTPS request is being made to host 'www.al.ba.gov.br'. Adding certificate verification is strongly advised. See: https://urllib3.readthedocs.io/en/latest/advanced-usage.html#tls-warnings\n",
      "  warnings.warn(\n"
     ]
    },
    {
     "name": "stdout",
     "output_type": "stream",
     "text": [
      "Entra na parte de busca sexo\n"
     ]
    },
    {
     "name": "stderr",
     "output_type": "stream",
     "text": [
      "c:\\Users\\Denilson\\AppData\\Local\\Programs\\Python\\Python312\\Lib\\site-packages\\urllib3\\connectionpool.py:1103: InsecureRequestWarning: Unverified HTTPS request is being made to host 'www.al.ba.gov.br'. Adding certificate verification is strongly advised. See: https://urllib3.readthedocs.io/en/latest/advanced-usage.html#tls-warnings\n",
      "  warnings.warn(\n",
      "c:\\Users\\Denilson\\AppData\\Local\\Programs\\Python\\Python312\\Lib\\site-packages\\urllib3\\connectionpool.py:1103: InsecureRequestWarning: Unverified HTTPS request is being made to host 'www.al.ba.gov.br'. Adding certificate verification is strongly advised. See: https://urllib3.readthedocs.io/en/latest/advanced-usage.html#tls-warnings\n",
      "  warnings.warn(\n"
     ]
    },
    {
     "name": "stdout",
     "output_type": "stream",
     "text": [
      "Entra na parte de busca sexo\n"
     ]
    },
    {
     "name": "stderr",
     "output_type": "stream",
     "text": [
      "c:\\Users\\Denilson\\AppData\\Local\\Programs\\Python\\Python312\\Lib\\site-packages\\urllib3\\connectionpool.py:1103: InsecureRequestWarning: Unverified HTTPS request is being made to host 'www.al.ba.gov.br'. Adding certificate verification is strongly advised. See: https://urllib3.readthedocs.io/en/latest/advanced-usage.html#tls-warnings\n",
      "  warnings.warn(\n",
      "c:\\Users\\Denilson\\AppData\\Local\\Programs\\Python\\Python312\\Lib\\site-packages\\urllib3\\connectionpool.py:1103: InsecureRequestWarning: Unverified HTTPS request is being made to host 'www.al.ba.gov.br'. Adding certificate verification is strongly advised. See: https://urllib3.readthedocs.io/en/latest/advanced-usage.html#tls-warnings\n",
      "  warnings.warn(\n"
     ]
    },
    {
     "name": "stdout",
     "output_type": "stream",
     "text": [
      "Entra na parte de busca sexo\n"
     ]
    },
    {
     "name": "stderr",
     "output_type": "stream",
     "text": [
      "c:\\Users\\Denilson\\AppData\\Local\\Programs\\Python\\Python312\\Lib\\site-packages\\urllib3\\connectionpool.py:1103: InsecureRequestWarning: Unverified HTTPS request is being made to host 'www.al.ba.gov.br'. Adding certificate verification is strongly advised. See: https://urllib3.readthedocs.io/en/latest/advanced-usage.html#tls-warnings\n",
      "  warnings.warn(\n",
      "c:\\Users\\Denilson\\AppData\\Local\\Programs\\Python\\Python312\\Lib\\site-packages\\urllib3\\connectionpool.py:1103: InsecureRequestWarning: Unverified HTTPS request is being made to host 'www.al.ba.gov.br'. Adding certificate verification is strongly advised. See: https://urllib3.readthedocs.io/en/latest/advanced-usage.html#tls-warnings\n",
      "  warnings.warn(\n",
      "c:\\Users\\Denilson\\AppData\\Local\\Programs\\Python\\Python312\\Lib\\site-packages\\urllib3\\connectionpool.py:1103: InsecureRequestWarning: Unverified HTTPS request is being made to host 'www.al.ba.gov.br'. Adding certificate verification is strongly advised. See: https://urllib3.readthedocs.io/en/latest/advanced-usage.html#tls-warnings\n",
      "  warnings.warn(\n"
     ]
    },
    {
     "name": "stdout",
     "output_type": "stream",
     "text": [
      "Entra na parte de busca sexo\n"
     ]
    },
    {
     "name": "stderr",
     "output_type": "stream",
     "text": [
      "c:\\Users\\Denilson\\AppData\\Local\\Programs\\Python\\Python312\\Lib\\site-packages\\urllib3\\connectionpool.py:1103: InsecureRequestWarning: Unverified HTTPS request is being made to host 'www.al.ba.gov.br'. Adding certificate verification is strongly advised. See: https://urllib3.readthedocs.io/en/latest/advanced-usage.html#tls-warnings\n",
      "  warnings.warn(\n",
      "c:\\Users\\Denilson\\AppData\\Local\\Programs\\Python\\Python312\\Lib\\site-packages\\urllib3\\connectionpool.py:1103: InsecureRequestWarning: Unverified HTTPS request is being made to host 'www.al.ba.gov.br'. Adding certificate verification is strongly advised. See: https://urllib3.readthedocs.io/en/latest/advanced-usage.html#tls-warnings\n",
      "  warnings.warn(\n"
     ]
    },
    {
     "name": "stdout",
     "output_type": "stream",
     "text": [
      "Entra na parte de busca sexo\n"
     ]
    },
    {
     "name": "stderr",
     "output_type": "stream",
     "text": [
      "c:\\Users\\Denilson\\AppData\\Local\\Programs\\Python\\Python312\\Lib\\site-packages\\urllib3\\connectionpool.py:1103: InsecureRequestWarning: Unverified HTTPS request is being made to host 'www.al.ba.gov.br'. Adding certificate verification is strongly advised. See: https://urllib3.readthedocs.io/en/latest/advanced-usage.html#tls-warnings\n",
      "  warnings.warn(\n",
      "c:\\Users\\Denilson\\AppData\\Local\\Programs\\Python\\Python312\\Lib\\site-packages\\urllib3\\connectionpool.py:1103: InsecureRequestWarning: Unverified HTTPS request is being made to host 'www.al.ba.gov.br'. Adding certificate verification is strongly advised. See: https://urllib3.readthedocs.io/en/latest/advanced-usage.html#tls-warnings\n",
      "  warnings.warn(\n"
     ]
    },
    {
     "name": "stdout",
     "output_type": "stream",
     "text": [
      "Entra na parte de busca sexo\n"
     ]
    },
    {
     "name": "stderr",
     "output_type": "stream",
     "text": [
      "c:\\Users\\Denilson\\AppData\\Local\\Programs\\Python\\Python312\\Lib\\site-packages\\urllib3\\connectionpool.py:1103: InsecureRequestWarning: Unverified HTTPS request is being made to host 'www.al.ba.gov.br'. Adding certificate verification is strongly advised. See: https://urllib3.readthedocs.io/en/latest/advanced-usage.html#tls-warnings\n",
      "  warnings.warn(\n",
      "c:\\Users\\Denilson\\AppData\\Local\\Programs\\Python\\Python312\\Lib\\site-packages\\urllib3\\connectionpool.py:1103: InsecureRequestWarning: Unverified HTTPS request is being made to host 'www.al.ba.gov.br'. Adding certificate verification is strongly advised. See: https://urllib3.readthedocs.io/en/latest/advanced-usage.html#tls-warnings\n",
      "  warnings.warn(\n"
     ]
    },
    {
     "name": "stdout",
     "output_type": "stream",
     "text": [
      "Entra na parte de busca sexo\n"
     ]
    },
    {
     "name": "stderr",
     "output_type": "stream",
     "text": [
      "c:\\Users\\Denilson\\AppData\\Local\\Programs\\Python\\Python312\\Lib\\site-packages\\urllib3\\connectionpool.py:1103: InsecureRequestWarning: Unverified HTTPS request is being made to host 'www.al.ba.gov.br'. Adding certificate verification is strongly advised. See: https://urllib3.readthedocs.io/en/latest/advanced-usage.html#tls-warnings\n",
      "  warnings.warn(\n",
      "c:\\Users\\Denilson\\AppData\\Local\\Programs\\Python\\Python312\\Lib\\site-packages\\urllib3\\connectionpool.py:1103: InsecureRequestWarning: Unverified HTTPS request is being made to host 'www.al.ba.gov.br'. Adding certificate verification is strongly advised. See: https://urllib3.readthedocs.io/en/latest/advanced-usage.html#tls-warnings\n",
      "  warnings.warn(\n",
      "c:\\Users\\Denilson\\AppData\\Local\\Programs\\Python\\Python312\\Lib\\site-packages\\urllib3\\connectionpool.py:1103: InsecureRequestWarning: Unverified HTTPS request is being made to host 'www.al.ba.gov.br'. Adding certificate verification is strongly advised. See: https://urllib3.readthedocs.io/en/latest/advanced-usage.html#tls-warnings\n",
      "  warnings.warn(\n"
     ]
    },
    {
     "name": "stdout",
     "output_type": "stream",
     "text": [
      "Entra na parte de busca sexo\n"
     ]
    },
    {
     "name": "stderr",
     "output_type": "stream",
     "text": [
      "c:\\Users\\Denilson\\AppData\\Local\\Programs\\Python\\Python312\\Lib\\site-packages\\urllib3\\connectionpool.py:1103: InsecureRequestWarning: Unverified HTTPS request is being made to host 'www.al.ba.gov.br'. Adding certificate verification is strongly advised. See: https://urllib3.readthedocs.io/en/latest/advanced-usage.html#tls-warnings\n",
      "  warnings.warn(\n",
      "c:\\Users\\Denilson\\AppData\\Local\\Programs\\Python\\Python312\\Lib\\site-packages\\urllib3\\connectionpool.py:1103: InsecureRequestWarning: Unverified HTTPS request is being made to host 'www.al.ba.gov.br'. Adding certificate verification is strongly advised. See: https://urllib3.readthedocs.io/en/latest/advanced-usage.html#tls-warnings\n",
      "  warnings.warn(\n"
     ]
    },
    {
     "name": "stdout",
     "output_type": "stream",
     "text": [
      "Entra na parte de busca sexo\n"
     ]
    },
    {
     "name": "stderr",
     "output_type": "stream",
     "text": [
      "c:\\Users\\Denilson\\AppData\\Local\\Programs\\Python\\Python312\\Lib\\site-packages\\urllib3\\connectionpool.py:1103: InsecureRequestWarning: Unverified HTTPS request is being made to host 'www.al.ba.gov.br'. Adding certificate verification is strongly advised. See: https://urllib3.readthedocs.io/en/latest/advanced-usage.html#tls-warnings\n",
      "  warnings.warn(\n",
      "c:\\Users\\Denilson\\AppData\\Local\\Programs\\Python\\Python312\\Lib\\site-packages\\urllib3\\connectionpool.py:1103: InsecureRequestWarning: Unverified HTTPS request is being made to host 'www.al.ba.gov.br'. Adding certificate verification is strongly advised. See: https://urllib3.readthedocs.io/en/latest/advanced-usage.html#tls-warnings\n",
      "  warnings.warn(\n",
      "c:\\Users\\Denilson\\AppData\\Local\\Programs\\Python\\Python312\\Lib\\site-packages\\urllib3\\connectionpool.py:1103: InsecureRequestWarning: Unverified HTTPS request is being made to host 'www.al.ba.gov.br'. Adding certificate verification is strongly advised. See: https://urllib3.readthedocs.io/en/latest/advanced-usage.html#tls-warnings\n",
      "  warnings.warn(\n"
     ]
    },
    {
     "name": "stdout",
     "output_type": "stream",
     "text": [
      "Entra na parte de busca sexo\n"
     ]
    },
    {
     "name": "stderr",
     "output_type": "stream",
     "text": [
      "c:\\Users\\Denilson\\AppData\\Local\\Programs\\Python\\Python312\\Lib\\site-packages\\urllib3\\connectionpool.py:1103: InsecureRequestWarning: Unverified HTTPS request is being made to host 'www.al.ba.gov.br'. Adding certificate verification is strongly advised. See: https://urllib3.readthedocs.io/en/latest/advanced-usage.html#tls-warnings\n",
      "  warnings.warn(\n",
      "c:\\Users\\Denilson\\AppData\\Local\\Programs\\Python\\Python312\\Lib\\site-packages\\urllib3\\connectionpool.py:1103: InsecureRequestWarning: Unverified HTTPS request is being made to host 'www.al.ba.gov.br'. Adding certificate verification is strongly advised. See: https://urllib3.readthedocs.io/en/latest/advanced-usage.html#tls-warnings\n",
      "  warnings.warn(\n"
     ]
    },
    {
     "name": "stdout",
     "output_type": "stream",
     "text": [
      "Entra na parte de busca sexo\n"
     ]
    },
    {
     "name": "stderr",
     "output_type": "stream",
     "text": [
      "c:\\Users\\Denilson\\AppData\\Local\\Programs\\Python\\Python312\\Lib\\site-packages\\urllib3\\connectionpool.py:1103: InsecureRequestWarning: Unverified HTTPS request is being made to host 'www.al.ba.gov.br'. Adding certificate verification is strongly advised. See: https://urllib3.readthedocs.io/en/latest/advanced-usage.html#tls-warnings\n",
      "  warnings.warn(\n",
      "c:\\Users\\Denilson\\AppData\\Local\\Programs\\Python\\Python312\\Lib\\site-packages\\urllib3\\connectionpool.py:1103: InsecureRequestWarning: Unverified HTTPS request is being made to host 'www.al.ba.gov.br'. Adding certificate verification is strongly advised. See: https://urllib3.readthedocs.io/en/latest/advanced-usage.html#tls-warnings\n",
      "  warnings.warn(\n"
     ]
    },
    {
     "name": "stdout",
     "output_type": "stream",
     "text": [
      "Entra na parte de busca sexo\n"
     ]
    },
    {
     "name": "stderr",
     "output_type": "stream",
     "text": [
      "c:\\Users\\Denilson\\AppData\\Local\\Programs\\Python\\Python312\\Lib\\site-packages\\urllib3\\connectionpool.py:1103: InsecureRequestWarning: Unverified HTTPS request is being made to host 'www.al.ba.gov.br'. Adding certificate verification is strongly advised. See: https://urllib3.readthedocs.io/en/latest/advanced-usage.html#tls-warnings\n",
      "  warnings.warn(\n",
      "c:\\Users\\Denilson\\AppData\\Local\\Programs\\Python\\Python312\\Lib\\site-packages\\urllib3\\connectionpool.py:1103: InsecureRequestWarning: Unverified HTTPS request is being made to host 'www.al.ba.gov.br'. Adding certificate verification is strongly advised. See: https://urllib3.readthedocs.io/en/latest/advanced-usage.html#tls-warnings\n",
      "  warnings.warn(\n"
     ]
    },
    {
     "name": "stdout",
     "output_type": "stream",
     "text": [
      "Entra na parte de busca sexo\n"
     ]
    },
    {
     "name": "stderr",
     "output_type": "stream",
     "text": [
      "c:\\Users\\Denilson\\AppData\\Local\\Programs\\Python\\Python312\\Lib\\site-packages\\urllib3\\connectionpool.py:1103: InsecureRequestWarning: Unverified HTTPS request is being made to host 'www.al.ba.gov.br'. Adding certificate verification is strongly advised. See: https://urllib3.readthedocs.io/en/latest/advanced-usage.html#tls-warnings\n",
      "  warnings.warn(\n",
      "c:\\Users\\Denilson\\AppData\\Local\\Programs\\Python\\Python312\\Lib\\site-packages\\urllib3\\connectionpool.py:1103: InsecureRequestWarning: Unverified HTTPS request is being made to host 'www.al.ba.gov.br'. Adding certificate verification is strongly advised. See: https://urllib3.readthedocs.io/en/latest/advanced-usage.html#tls-warnings\n",
      "  warnings.warn(\n"
     ]
    },
    {
     "name": "stdout",
     "output_type": "stream",
     "text": [
      "Entra na parte de busca sexo\n"
     ]
    },
    {
     "name": "stderr",
     "output_type": "stream",
     "text": [
      "c:\\Users\\Denilson\\AppData\\Local\\Programs\\Python\\Python312\\Lib\\site-packages\\urllib3\\connectionpool.py:1103: InsecureRequestWarning: Unverified HTTPS request is being made to host 'www.al.ba.gov.br'. Adding certificate verification is strongly advised. See: https://urllib3.readthedocs.io/en/latest/advanced-usage.html#tls-warnings\n",
      "  warnings.warn(\n",
      "c:\\Users\\Denilson\\AppData\\Local\\Programs\\Python\\Python312\\Lib\\site-packages\\urllib3\\connectionpool.py:1103: InsecureRequestWarning: Unverified HTTPS request is being made to host 'www.al.ba.gov.br'. Adding certificate verification is strongly advised. See: https://urllib3.readthedocs.io/en/latest/advanced-usage.html#tls-warnings\n",
      "  warnings.warn(\n"
     ]
    },
    {
     "name": "stdout",
     "output_type": "stream",
     "text": [
      "Entra na parte de busca sexo\n"
     ]
    },
    {
     "name": "stderr",
     "output_type": "stream",
     "text": [
      "c:\\Users\\Denilson\\AppData\\Local\\Programs\\Python\\Python312\\Lib\\site-packages\\urllib3\\connectionpool.py:1103: InsecureRequestWarning: Unverified HTTPS request is being made to host 'www.al.ba.gov.br'. Adding certificate verification is strongly advised. See: https://urllib3.readthedocs.io/en/latest/advanced-usage.html#tls-warnings\n",
      "  warnings.warn(\n",
      "c:\\Users\\Denilson\\AppData\\Local\\Programs\\Python\\Python312\\Lib\\site-packages\\urllib3\\connectionpool.py:1103: InsecureRequestWarning: Unverified HTTPS request is being made to host 'www.al.ba.gov.br'. Adding certificate verification is strongly advised. See: https://urllib3.readthedocs.io/en/latest/advanced-usage.html#tls-warnings\n",
      "  warnings.warn(\n"
     ]
    },
    {
     "name": "stdout",
     "output_type": "stream",
     "text": [
      "Entra na parte de busca sexo\n"
     ]
    },
    {
     "name": "stderr",
     "output_type": "stream",
     "text": [
      "c:\\Users\\Denilson\\AppData\\Local\\Programs\\Python\\Python312\\Lib\\site-packages\\urllib3\\connectionpool.py:1103: InsecureRequestWarning: Unverified HTTPS request is being made to host 'www.al.ba.gov.br'. Adding certificate verification is strongly advised. See: https://urllib3.readthedocs.io/en/latest/advanced-usage.html#tls-warnings\n",
      "  warnings.warn(\n",
      "c:\\Users\\Denilson\\AppData\\Local\\Programs\\Python\\Python312\\Lib\\site-packages\\urllib3\\connectionpool.py:1103: InsecureRequestWarning: Unverified HTTPS request is being made to host 'www.al.ba.gov.br'. Adding certificate verification is strongly advised. See: https://urllib3.readthedocs.io/en/latest/advanced-usage.html#tls-warnings\n",
      "  warnings.warn(\n"
     ]
    },
    {
     "name": "stdout",
     "output_type": "stream",
     "text": [
      "Entra na parte de busca sexo\n"
     ]
    },
    {
     "name": "stderr",
     "output_type": "stream",
     "text": [
      "c:\\Users\\Denilson\\AppData\\Local\\Programs\\Python\\Python312\\Lib\\site-packages\\urllib3\\connectionpool.py:1103: InsecureRequestWarning: Unverified HTTPS request is being made to host 'www.al.ba.gov.br'. Adding certificate verification is strongly advised. See: https://urllib3.readthedocs.io/en/latest/advanced-usage.html#tls-warnings\n",
      "  warnings.warn(\n",
      "c:\\Users\\Denilson\\AppData\\Local\\Programs\\Python\\Python312\\Lib\\site-packages\\urllib3\\connectionpool.py:1103: InsecureRequestWarning: Unverified HTTPS request is being made to host 'www.al.ba.gov.br'. Adding certificate verification is strongly advised. See: https://urllib3.readthedocs.io/en/latest/advanced-usage.html#tls-warnings\n",
      "  warnings.warn(\n",
      "c:\\Users\\Denilson\\AppData\\Local\\Programs\\Python\\Python312\\Lib\\site-packages\\urllib3\\connectionpool.py:1103: InsecureRequestWarning: Unverified HTTPS request is being made to host 'www.al.ba.gov.br'. Adding certificate verification is strongly advised. See: https://urllib3.readthedocs.io/en/latest/advanced-usage.html#tls-warnings\n",
      "  warnings.warn(\n"
     ]
    },
    {
     "name": "stdout",
     "output_type": "stream",
     "text": [
      "Entra na parte de busca sexo\n"
     ]
    },
    {
     "name": "stderr",
     "output_type": "stream",
     "text": [
      "c:\\Users\\Denilson\\AppData\\Local\\Programs\\Python\\Python312\\Lib\\site-packages\\urllib3\\connectionpool.py:1103: InsecureRequestWarning: Unverified HTTPS request is being made to host 'www.al.ba.gov.br'. Adding certificate verification is strongly advised. See: https://urllib3.readthedocs.io/en/latest/advanced-usage.html#tls-warnings\n",
      "  warnings.warn(\n",
      "c:\\Users\\Denilson\\AppData\\Local\\Programs\\Python\\Python312\\Lib\\site-packages\\urllib3\\connectionpool.py:1103: InsecureRequestWarning: Unverified HTTPS request is being made to host 'www.al.ba.gov.br'. Adding certificate verification is strongly advised. See: https://urllib3.readthedocs.io/en/latest/advanced-usage.html#tls-warnings\n",
      "  warnings.warn(\n",
      "c:\\Users\\Denilson\\AppData\\Local\\Programs\\Python\\Python312\\Lib\\site-packages\\urllib3\\connectionpool.py:1103: InsecureRequestWarning: Unverified HTTPS request is being made to host 'www.al.ba.gov.br'. Adding certificate verification is strongly advised. See: https://urllib3.readthedocs.io/en/latest/advanced-usage.html#tls-warnings\n",
      "  warnings.warn(\n"
     ]
    },
    {
     "name": "stdout",
     "output_type": "stream",
     "text": [
      "Entra na parte de busca sexo\n"
     ]
    },
    {
     "name": "stderr",
     "output_type": "stream",
     "text": [
      "c:\\Users\\Denilson\\AppData\\Local\\Programs\\Python\\Python312\\Lib\\site-packages\\urllib3\\connectionpool.py:1103: InsecureRequestWarning: Unverified HTTPS request is being made to host 'www.al.ba.gov.br'. Adding certificate verification is strongly advised. See: https://urllib3.readthedocs.io/en/latest/advanced-usage.html#tls-warnings\n",
      "  warnings.warn(\n",
      "c:\\Users\\Denilson\\AppData\\Local\\Programs\\Python\\Python312\\Lib\\site-packages\\urllib3\\connectionpool.py:1103: InsecureRequestWarning: Unverified HTTPS request is being made to host 'www.al.ba.gov.br'. Adding certificate verification is strongly advised. See: https://urllib3.readthedocs.io/en/latest/advanced-usage.html#tls-warnings\n",
      "  warnings.warn(\n"
     ]
    },
    {
     "name": "stdout",
     "output_type": "stream",
     "text": [
      "Entra na parte de busca sexo\n"
     ]
    },
    {
     "name": "stderr",
     "output_type": "stream",
     "text": [
      "c:\\Users\\Denilson\\AppData\\Local\\Programs\\Python\\Python312\\Lib\\site-packages\\urllib3\\connectionpool.py:1103: InsecureRequestWarning: Unverified HTTPS request is being made to host 'www.al.ba.gov.br'. Adding certificate verification is strongly advised. See: https://urllib3.readthedocs.io/en/latest/advanced-usage.html#tls-warnings\n",
      "  warnings.warn(\n",
      "c:\\Users\\Denilson\\AppData\\Local\\Programs\\Python\\Python312\\Lib\\site-packages\\urllib3\\connectionpool.py:1103: InsecureRequestWarning: Unverified HTTPS request is being made to host 'www.al.ba.gov.br'. Adding certificate verification is strongly advised. See: https://urllib3.readthedocs.io/en/latest/advanced-usage.html#tls-warnings\n",
      "  warnings.warn(\n"
     ]
    },
    {
     "name": "stdout",
     "output_type": "stream",
     "text": [
      "Entra na parte de busca sexo\n"
     ]
    },
    {
     "name": "stderr",
     "output_type": "stream",
     "text": [
      "c:\\Users\\Denilson\\AppData\\Local\\Programs\\Python\\Python312\\Lib\\site-packages\\urllib3\\connectionpool.py:1103: InsecureRequestWarning: Unverified HTTPS request is being made to host 'www.al.ba.gov.br'. Adding certificate verification is strongly advised. See: https://urllib3.readthedocs.io/en/latest/advanced-usage.html#tls-warnings\n",
      "  warnings.warn(\n",
      "c:\\Users\\Denilson\\AppData\\Local\\Programs\\Python\\Python312\\Lib\\site-packages\\urllib3\\connectionpool.py:1103: InsecureRequestWarning: Unverified HTTPS request is being made to host 'www.al.ba.gov.br'. Adding certificate verification is strongly advised. See: https://urllib3.readthedocs.io/en/latest/advanced-usage.html#tls-warnings\n",
      "  warnings.warn(\n",
      "c:\\Users\\Denilson\\AppData\\Local\\Programs\\Python\\Python312\\Lib\\site-packages\\urllib3\\connectionpool.py:1103: InsecureRequestWarning: Unverified HTTPS request is being made to host 'www.al.ba.gov.br'. Adding certificate verification is strongly advised. See: https://urllib3.readthedocs.io/en/latest/advanced-usage.html#tls-warnings\n",
      "  warnings.warn(\n"
     ]
    },
    {
     "name": "stdout",
     "output_type": "stream",
     "text": [
      "Entra na parte de busca sexo\n"
     ]
    },
    {
     "name": "stderr",
     "output_type": "stream",
     "text": [
      "c:\\Users\\Denilson\\AppData\\Local\\Programs\\Python\\Python312\\Lib\\site-packages\\urllib3\\connectionpool.py:1103: InsecureRequestWarning: Unverified HTTPS request is being made to host 'www.al.ba.gov.br'. Adding certificate verification is strongly advised. See: https://urllib3.readthedocs.io/en/latest/advanced-usage.html#tls-warnings\n",
      "  warnings.warn(\n",
      "c:\\Users\\Denilson\\AppData\\Local\\Programs\\Python\\Python312\\Lib\\site-packages\\urllib3\\connectionpool.py:1103: InsecureRequestWarning: Unverified HTTPS request is being made to host 'www.al.ba.gov.br'. Adding certificate verification is strongly advised. See: https://urllib3.readthedocs.io/en/latest/advanced-usage.html#tls-warnings\n",
      "  warnings.warn(\n"
     ]
    },
    {
     "name": "stdout",
     "output_type": "stream",
     "text": [
      "Entra na parte de busca sexo\n"
     ]
    },
    {
     "name": "stderr",
     "output_type": "stream",
     "text": [
      "c:\\Users\\Denilson\\AppData\\Local\\Programs\\Python\\Python312\\Lib\\site-packages\\urllib3\\connectionpool.py:1103: InsecureRequestWarning: Unverified HTTPS request is being made to host 'www.al.ba.gov.br'. Adding certificate verification is strongly advised. See: https://urllib3.readthedocs.io/en/latest/advanced-usage.html#tls-warnings\n",
      "  warnings.warn(\n",
      "c:\\Users\\Denilson\\AppData\\Local\\Programs\\Python\\Python312\\Lib\\site-packages\\urllib3\\connectionpool.py:1103: InsecureRequestWarning: Unverified HTTPS request is being made to host 'www.al.ba.gov.br'. Adding certificate verification is strongly advised. See: https://urllib3.readthedocs.io/en/latest/advanced-usage.html#tls-warnings\n",
      "  warnings.warn(\n"
     ]
    },
    {
     "name": "stdout",
     "output_type": "stream",
     "text": [
      "Entra na parte de busca sexo\n"
     ]
    },
    {
     "name": "stderr",
     "output_type": "stream",
     "text": [
      "c:\\Users\\Denilson\\AppData\\Local\\Programs\\Python\\Python312\\Lib\\site-packages\\urllib3\\connectionpool.py:1103: InsecureRequestWarning: Unverified HTTPS request is being made to host 'www.al.ba.gov.br'. Adding certificate verification is strongly advised. See: https://urllib3.readthedocs.io/en/latest/advanced-usage.html#tls-warnings\n",
      "  warnings.warn(\n",
      "c:\\Users\\Denilson\\AppData\\Local\\Programs\\Python\\Python312\\Lib\\site-packages\\urllib3\\connectionpool.py:1103: InsecureRequestWarning: Unverified HTTPS request is being made to host 'www.al.ba.gov.br'. Adding certificate verification is strongly advised. See: https://urllib3.readthedocs.io/en/latest/advanced-usage.html#tls-warnings\n",
      "  warnings.warn(\n"
     ]
    },
    {
     "name": "stdout",
     "output_type": "stream",
     "text": [
      "Entra na parte de busca sexo\n"
     ]
    },
    {
     "name": "stderr",
     "output_type": "stream",
     "text": [
      "c:\\Users\\Denilson\\AppData\\Local\\Programs\\Python\\Python312\\Lib\\site-packages\\urllib3\\connectionpool.py:1103: InsecureRequestWarning: Unverified HTTPS request is being made to host 'www.al.ba.gov.br'. Adding certificate verification is strongly advised. See: https://urllib3.readthedocs.io/en/latest/advanced-usage.html#tls-warnings\n",
      "  warnings.warn(\n",
      "c:\\Users\\Denilson\\AppData\\Local\\Programs\\Python\\Python312\\Lib\\site-packages\\urllib3\\connectionpool.py:1103: InsecureRequestWarning: Unverified HTTPS request is being made to host 'www.al.ba.gov.br'. Adding certificate verification is strongly advised. See: https://urllib3.readthedocs.io/en/latest/advanced-usage.html#tls-warnings\n",
      "  warnings.warn(\n"
     ]
    },
    {
     "name": "stdout",
     "output_type": "stream",
     "text": [
      "Entra na parte de busca sexo\n"
     ]
    },
    {
     "name": "stderr",
     "output_type": "stream",
     "text": [
      "c:\\Users\\Denilson\\AppData\\Local\\Programs\\Python\\Python312\\Lib\\site-packages\\urllib3\\connectionpool.py:1103: InsecureRequestWarning: Unverified HTTPS request is being made to host 'www.al.ba.gov.br'. Adding certificate verification is strongly advised. See: https://urllib3.readthedocs.io/en/latest/advanced-usage.html#tls-warnings\n",
      "  warnings.warn(\n",
      "c:\\Users\\Denilson\\AppData\\Local\\Programs\\Python\\Python312\\Lib\\site-packages\\urllib3\\connectionpool.py:1103: InsecureRequestWarning: Unverified HTTPS request is being made to host 'www.al.ba.gov.br'. Adding certificate verification is strongly advised. See: https://urllib3.readthedocs.io/en/latest/advanced-usage.html#tls-warnings\n",
      "  warnings.warn(\n"
     ]
    },
    {
     "name": "stdout",
     "output_type": "stream",
     "text": [
      "Entra na parte de busca sexo\n"
     ]
    },
    {
     "name": "stderr",
     "output_type": "stream",
     "text": [
      "c:\\Users\\Denilson\\AppData\\Local\\Programs\\Python\\Python312\\Lib\\site-packages\\urllib3\\connectionpool.py:1103: InsecureRequestWarning: Unverified HTTPS request is being made to host 'www.al.ba.gov.br'. Adding certificate verification is strongly advised. See: https://urllib3.readthedocs.io/en/latest/advanced-usage.html#tls-warnings\n",
      "  warnings.warn(\n",
      "c:\\Users\\Denilson\\AppData\\Local\\Programs\\Python\\Python312\\Lib\\site-packages\\urllib3\\connectionpool.py:1103: InsecureRequestWarning: Unverified HTTPS request is being made to host 'www.al.ba.gov.br'. Adding certificate verification is strongly advised. See: https://urllib3.readthedocs.io/en/latest/advanced-usage.html#tls-warnings\n",
      "  warnings.warn(\n"
     ]
    },
    {
     "name": "stdout",
     "output_type": "stream",
     "text": [
      "Entra na parte de busca sexo\n"
     ]
    },
    {
     "name": "stderr",
     "output_type": "stream",
     "text": [
      "c:\\Users\\Denilson\\AppData\\Local\\Programs\\Python\\Python312\\Lib\\site-packages\\urllib3\\connectionpool.py:1103: InsecureRequestWarning: Unverified HTTPS request is being made to host 'www.al.ba.gov.br'. Adding certificate verification is strongly advised. See: https://urllib3.readthedocs.io/en/latest/advanced-usage.html#tls-warnings\n",
      "  warnings.warn(\n",
      "c:\\Users\\Denilson\\AppData\\Local\\Programs\\Python\\Python312\\Lib\\site-packages\\urllib3\\connectionpool.py:1103: InsecureRequestWarning: Unverified HTTPS request is being made to host 'www.al.ba.gov.br'. Adding certificate verification is strongly advised. See: https://urllib3.readthedocs.io/en/latest/advanced-usage.html#tls-warnings\n",
      "  warnings.warn(\n",
      "c:\\Users\\Denilson\\AppData\\Local\\Programs\\Python\\Python312\\Lib\\site-packages\\urllib3\\connectionpool.py:1103: InsecureRequestWarning: Unverified HTTPS request is being made to host 'www.al.ba.gov.br'. Adding certificate verification is strongly advised. See: https://urllib3.readthedocs.io/en/latest/advanced-usage.html#tls-warnings\n",
      "  warnings.warn(\n"
     ]
    },
    {
     "name": "stdout",
     "output_type": "stream",
     "text": [
      "Entra na parte de busca sexo\n"
     ]
    },
    {
     "name": "stderr",
     "output_type": "stream",
     "text": [
      "c:\\Users\\Denilson\\AppData\\Local\\Programs\\Python\\Python312\\Lib\\site-packages\\urllib3\\connectionpool.py:1103: InsecureRequestWarning: Unverified HTTPS request is being made to host 'www.al.ba.gov.br'. Adding certificate verification is strongly advised. See: https://urllib3.readthedocs.io/en/latest/advanced-usage.html#tls-warnings\n",
      "  warnings.warn(\n",
      "c:\\Users\\Denilson\\AppData\\Local\\Programs\\Python\\Python312\\Lib\\site-packages\\urllib3\\connectionpool.py:1103: InsecureRequestWarning: Unverified HTTPS request is being made to host 'www.al.ba.gov.br'. Adding certificate verification is strongly advised. See: https://urllib3.readthedocs.io/en/latest/advanced-usage.html#tls-warnings\n",
      "  warnings.warn(\n"
     ]
    },
    {
     "name": "stdout",
     "output_type": "stream",
     "text": [
      "Entra na parte de busca sexo\n"
     ]
    },
    {
     "name": "stderr",
     "output_type": "stream",
     "text": [
      "c:\\Users\\Denilson\\AppData\\Local\\Programs\\Python\\Python312\\Lib\\site-packages\\urllib3\\connectionpool.py:1103: InsecureRequestWarning: Unverified HTTPS request is being made to host 'www.al.ba.gov.br'. Adding certificate verification is strongly advised. See: https://urllib3.readthedocs.io/en/latest/advanced-usage.html#tls-warnings\n",
      "  warnings.warn(\n",
      "c:\\Users\\Denilson\\AppData\\Local\\Programs\\Python\\Python312\\Lib\\site-packages\\urllib3\\connectionpool.py:1103: InsecureRequestWarning: Unverified HTTPS request is being made to host 'www.al.ba.gov.br'. Adding certificate verification is strongly advised. See: https://urllib3.readthedocs.io/en/latest/advanced-usage.html#tls-warnings\n",
      "  warnings.warn(\n"
     ]
    },
    {
     "name": "stdout",
     "output_type": "stream",
     "text": [
      "Entra na parte de busca sexo\n"
     ]
    },
    {
     "name": "stderr",
     "output_type": "stream",
     "text": [
      "c:\\Users\\Denilson\\AppData\\Local\\Programs\\Python\\Python312\\Lib\\site-packages\\urllib3\\connectionpool.py:1103: InsecureRequestWarning: Unverified HTTPS request is being made to host 'www.al.ba.gov.br'. Adding certificate verification is strongly advised. See: https://urllib3.readthedocs.io/en/latest/advanced-usage.html#tls-warnings\n",
      "  warnings.warn(\n",
      "c:\\Users\\Denilson\\AppData\\Local\\Programs\\Python\\Python312\\Lib\\site-packages\\urllib3\\connectionpool.py:1103: InsecureRequestWarning: Unverified HTTPS request is being made to host 'www.al.ba.gov.br'. Adding certificate verification is strongly advised. See: https://urllib3.readthedocs.io/en/latest/advanced-usage.html#tls-warnings\n",
      "  warnings.warn(\n"
     ]
    },
    {
     "name": "stdout",
     "output_type": "stream",
     "text": [
      "Entra na parte de busca sexo\n"
     ]
    },
    {
     "name": "stderr",
     "output_type": "stream",
     "text": [
      "c:\\Users\\Denilson\\AppData\\Local\\Programs\\Python\\Python312\\Lib\\site-packages\\urllib3\\connectionpool.py:1103: InsecureRequestWarning: Unverified HTTPS request is being made to host 'www.al.ba.gov.br'. Adding certificate verification is strongly advised. See: https://urllib3.readthedocs.io/en/latest/advanced-usage.html#tls-warnings\n",
      "  warnings.warn(\n",
      "c:\\Users\\Denilson\\AppData\\Local\\Programs\\Python\\Python312\\Lib\\site-packages\\urllib3\\connectionpool.py:1103: InsecureRequestWarning: Unverified HTTPS request is being made to host 'www.al.ba.gov.br'. Adding certificate verification is strongly advised. See: https://urllib3.readthedocs.io/en/latest/advanced-usage.html#tls-warnings\n",
      "  warnings.warn(\n"
     ]
    },
    {
     "name": "stdout",
     "output_type": "stream",
     "text": [
      "Entra na parte de busca sexo\n"
     ]
    },
    {
     "name": "stderr",
     "output_type": "stream",
     "text": [
      "c:\\Users\\Denilson\\AppData\\Local\\Programs\\Python\\Python312\\Lib\\site-packages\\urllib3\\connectionpool.py:1103: InsecureRequestWarning: Unverified HTTPS request is being made to host 'www.al.ba.gov.br'. Adding certificate verification is strongly advised. See: https://urllib3.readthedocs.io/en/latest/advanced-usage.html#tls-warnings\n",
      "  warnings.warn(\n",
      "c:\\Users\\Denilson\\AppData\\Local\\Programs\\Python\\Python312\\Lib\\site-packages\\urllib3\\connectionpool.py:1103: InsecureRequestWarning: Unverified HTTPS request is being made to host 'www.al.ba.gov.br'. Adding certificate verification is strongly advised. See: https://urllib3.readthedocs.io/en/latest/advanced-usage.html#tls-warnings\n",
      "  warnings.warn(\n"
     ]
    },
    {
     "name": "stdout",
     "output_type": "stream",
     "text": [
      "Entra na parte de busca sexo\n"
     ]
    },
    {
     "name": "stderr",
     "output_type": "stream",
     "text": [
      "c:\\Users\\Denilson\\AppData\\Local\\Programs\\Python\\Python312\\Lib\\site-packages\\urllib3\\connectionpool.py:1103: InsecureRequestWarning: Unverified HTTPS request is being made to host 'www.al.ba.gov.br'. Adding certificate verification is strongly advised. See: https://urllib3.readthedocs.io/en/latest/advanced-usage.html#tls-warnings\n",
      "  warnings.warn(\n",
      "c:\\Users\\Denilson\\AppData\\Local\\Programs\\Python\\Python312\\Lib\\site-packages\\urllib3\\connectionpool.py:1103: InsecureRequestWarning: Unverified HTTPS request is being made to host 'www.al.ba.gov.br'. Adding certificate verification is strongly advised. See: https://urllib3.readthedocs.io/en/latest/advanced-usage.html#tls-warnings\n",
      "  warnings.warn(\n"
     ]
    },
    {
     "name": "stdout",
     "output_type": "stream",
     "text": [
      "Entra na parte de busca sexo\n"
     ]
    },
    {
     "name": "stderr",
     "output_type": "stream",
     "text": [
      "c:\\Users\\Denilson\\AppData\\Local\\Programs\\Python\\Python312\\Lib\\site-packages\\urllib3\\connectionpool.py:1103: InsecureRequestWarning: Unverified HTTPS request is being made to host 'www.al.ba.gov.br'. Adding certificate verification is strongly advised. See: https://urllib3.readthedocs.io/en/latest/advanced-usage.html#tls-warnings\n",
      "  warnings.warn(\n",
      "c:\\Users\\Denilson\\AppData\\Local\\Programs\\Python\\Python312\\Lib\\site-packages\\urllib3\\connectionpool.py:1103: InsecureRequestWarning: Unverified HTTPS request is being made to host 'www.al.ba.gov.br'. Adding certificate verification is strongly advised. See: https://urllib3.readthedocs.io/en/latest/advanced-usage.html#tls-warnings\n",
      "  warnings.warn(\n"
     ]
    },
    {
     "name": "stdout",
     "output_type": "stream",
     "text": [
      "Entra na parte de busca sexo\n"
     ]
    },
    {
     "name": "stderr",
     "output_type": "stream",
     "text": [
      "c:\\Users\\Denilson\\AppData\\Local\\Programs\\Python\\Python312\\Lib\\site-packages\\urllib3\\connectionpool.py:1103: InsecureRequestWarning: Unverified HTTPS request is being made to host 'www.al.ba.gov.br'. Adding certificate verification is strongly advised. See: https://urllib3.readthedocs.io/en/latest/advanced-usage.html#tls-warnings\n",
      "  warnings.warn(\n",
      "c:\\Users\\Denilson\\AppData\\Local\\Programs\\Python\\Python312\\Lib\\site-packages\\urllib3\\connectionpool.py:1103: InsecureRequestWarning: Unverified HTTPS request is being made to host 'www.al.ba.gov.br'. Adding certificate verification is strongly advised. See: https://urllib3.readthedocs.io/en/latest/advanced-usage.html#tls-warnings\n",
      "  warnings.warn(\n",
      "c:\\Users\\Denilson\\AppData\\Local\\Programs\\Python\\Python312\\Lib\\site-packages\\urllib3\\connectionpool.py:1103: InsecureRequestWarning: Unverified HTTPS request is being made to host 'www.al.ba.gov.br'. Adding certificate verification is strongly advised. See: https://urllib3.readthedocs.io/en/latest/advanced-usage.html#tls-warnings\n",
      "  warnings.warn(\n"
     ]
    },
    {
     "name": "stdout",
     "output_type": "stream",
     "text": [
      "Entra na parte de busca sexo\n"
     ]
    },
    {
     "name": "stderr",
     "output_type": "stream",
     "text": [
      "c:\\Users\\Denilson\\AppData\\Local\\Programs\\Python\\Python312\\Lib\\site-packages\\urllib3\\connectionpool.py:1103: InsecureRequestWarning: Unverified HTTPS request is being made to host 'www.al.ba.gov.br'. Adding certificate verification is strongly advised. See: https://urllib3.readthedocs.io/en/latest/advanced-usage.html#tls-warnings\n",
      "  warnings.warn(\n",
      "c:\\Users\\Denilson\\AppData\\Local\\Programs\\Python\\Python312\\Lib\\site-packages\\urllib3\\connectionpool.py:1103: InsecureRequestWarning: Unverified HTTPS request is being made to host 'www.al.ba.gov.br'. Adding certificate verification is strongly advised. See: https://urllib3.readthedocs.io/en/latest/advanced-usage.html#tls-warnings\n",
      "  warnings.warn(\n"
     ]
    },
    {
     "name": "stdout",
     "output_type": "stream",
     "text": [
      "Entra na parte de busca sexo\n"
     ]
    },
    {
     "name": "stderr",
     "output_type": "stream",
     "text": [
      "c:\\Users\\Denilson\\AppData\\Local\\Programs\\Python\\Python312\\Lib\\site-packages\\urllib3\\connectionpool.py:1103: InsecureRequestWarning: Unverified HTTPS request is being made to host 'www.al.ba.gov.br'. Adding certificate verification is strongly advised. See: https://urllib3.readthedocs.io/en/latest/advanced-usage.html#tls-warnings\n",
      "  warnings.warn(\n",
      "c:\\Users\\Denilson\\AppData\\Local\\Programs\\Python\\Python312\\Lib\\site-packages\\urllib3\\connectionpool.py:1103: InsecureRequestWarning: Unverified HTTPS request is being made to host 'www.al.ba.gov.br'. Adding certificate verification is strongly advised. See: https://urllib3.readthedocs.io/en/latest/advanced-usage.html#tls-warnings\n",
      "  warnings.warn(\n"
     ]
    },
    {
     "name": "stdout",
     "output_type": "stream",
     "text": [
      "Entra na parte de busca sexo\n"
     ]
    },
    {
     "name": "stderr",
     "output_type": "stream",
     "text": [
      "c:\\Users\\Denilson\\AppData\\Local\\Programs\\Python\\Python312\\Lib\\site-packages\\urllib3\\connectionpool.py:1103: InsecureRequestWarning: Unverified HTTPS request is being made to host 'www.al.ba.gov.br'. Adding certificate verification is strongly advised. See: https://urllib3.readthedocs.io/en/latest/advanced-usage.html#tls-warnings\n",
      "  warnings.warn(\n",
      "c:\\Users\\Denilson\\AppData\\Local\\Programs\\Python\\Python312\\Lib\\site-packages\\urllib3\\connectionpool.py:1103: InsecureRequestWarning: Unverified HTTPS request is being made to host 'www.al.ba.gov.br'. Adding certificate verification is strongly advised. See: https://urllib3.readthedocs.io/en/latest/advanced-usage.html#tls-warnings\n",
      "  warnings.warn(\n"
     ]
    },
    {
     "name": "stdout",
     "output_type": "stream",
     "text": [
      "Entra na parte de busca sexo\n"
     ]
    },
    {
     "name": "stderr",
     "output_type": "stream",
     "text": [
      "c:\\Users\\Denilson\\AppData\\Local\\Programs\\Python\\Python312\\Lib\\site-packages\\urllib3\\connectionpool.py:1103: InsecureRequestWarning: Unverified HTTPS request is being made to host 'www.al.ba.gov.br'. Adding certificate verification is strongly advised. See: https://urllib3.readthedocs.io/en/latest/advanced-usage.html#tls-warnings\n",
      "  warnings.warn(\n",
      "c:\\Users\\Denilson\\AppData\\Local\\Programs\\Python\\Python312\\Lib\\site-packages\\urllib3\\connectionpool.py:1103: InsecureRequestWarning: Unverified HTTPS request is being made to host 'www.al.ba.gov.br'. Adding certificate verification is strongly advised. See: https://urllib3.readthedocs.io/en/latest/advanced-usage.html#tls-warnings\n",
      "  warnings.warn(\n"
     ]
    },
    {
     "name": "stdout",
     "output_type": "stream",
     "text": [
      "Entra na parte de busca sexo\n"
     ]
    },
    {
     "name": "stderr",
     "output_type": "stream",
     "text": [
      "c:\\Users\\Denilson\\AppData\\Local\\Programs\\Python\\Python312\\Lib\\site-packages\\urllib3\\connectionpool.py:1103: InsecureRequestWarning: Unverified HTTPS request is being made to host 'www.al.ba.gov.br'. Adding certificate verification is strongly advised. See: https://urllib3.readthedocs.io/en/latest/advanced-usage.html#tls-warnings\n",
      "  warnings.warn(\n",
      "c:\\Users\\Denilson\\AppData\\Local\\Programs\\Python\\Python312\\Lib\\site-packages\\urllib3\\connectionpool.py:1103: InsecureRequestWarning: Unverified HTTPS request is being made to host 'www.al.ba.gov.br'. Adding certificate verification is strongly advised. See: https://urllib3.readthedocs.io/en/latest/advanced-usage.html#tls-warnings\n",
      "  warnings.warn(\n"
     ]
    },
    {
     "name": "stdout",
     "output_type": "stream",
     "text": [
      "Entra na parte de busca sexo\n"
     ]
    },
    {
     "name": "stderr",
     "output_type": "stream",
     "text": [
      "c:\\Users\\Denilson\\AppData\\Local\\Programs\\Python\\Python312\\Lib\\site-packages\\urllib3\\connectionpool.py:1103: InsecureRequestWarning: Unverified HTTPS request is being made to host 'www.al.ba.gov.br'. Adding certificate verification is strongly advised. See: https://urllib3.readthedocs.io/en/latest/advanced-usage.html#tls-warnings\n",
      "  warnings.warn(\n",
      "c:\\Users\\Denilson\\AppData\\Local\\Programs\\Python\\Python312\\Lib\\site-packages\\urllib3\\connectionpool.py:1103: InsecureRequestWarning: Unverified HTTPS request is being made to host 'www.al.ba.gov.br'. Adding certificate verification is strongly advised. See: https://urllib3.readthedocs.io/en/latest/advanced-usage.html#tls-warnings\n",
      "  warnings.warn(\n",
      "c:\\Users\\Denilson\\AppData\\Local\\Programs\\Python\\Python312\\Lib\\site-packages\\urllib3\\connectionpool.py:1103: InsecureRequestWarning: Unverified HTTPS request is being made to host 'www.al.ba.gov.br'. Adding certificate verification is strongly advised. See: https://urllib3.readthedocs.io/en/latest/advanced-usage.html#tls-warnings\n",
      "  warnings.warn(\n"
     ]
    },
    {
     "name": "stdout",
     "output_type": "stream",
     "text": [
      "Entra na parte de busca sexo\n"
     ]
    },
    {
     "name": "stderr",
     "output_type": "stream",
     "text": [
      "c:\\Users\\Denilson\\AppData\\Local\\Programs\\Python\\Python312\\Lib\\site-packages\\urllib3\\connectionpool.py:1103: InsecureRequestWarning: Unverified HTTPS request is being made to host 'www.al.ba.gov.br'. Adding certificate verification is strongly advised. See: https://urllib3.readthedocs.io/en/latest/advanced-usage.html#tls-warnings\n",
      "  warnings.warn(\n",
      "c:\\Users\\Denilson\\AppData\\Local\\Programs\\Python\\Python312\\Lib\\site-packages\\urllib3\\connectionpool.py:1103: InsecureRequestWarning: Unverified HTTPS request is being made to host 'www.al.ba.gov.br'. Adding certificate verification is strongly advised. See: https://urllib3.readthedocs.io/en/latest/advanced-usage.html#tls-warnings\n",
      "  warnings.warn(\n"
     ]
    },
    {
     "name": "stdout",
     "output_type": "stream",
     "text": [
      "Entra na parte de busca sexo\n"
     ]
    },
    {
     "name": "stderr",
     "output_type": "stream",
     "text": [
      "c:\\Users\\Denilson\\AppData\\Local\\Programs\\Python\\Python312\\Lib\\site-packages\\urllib3\\connectionpool.py:1103: InsecureRequestWarning: Unverified HTTPS request is being made to host 'www.al.ba.gov.br'. Adding certificate verification is strongly advised. See: https://urllib3.readthedocs.io/en/latest/advanced-usage.html#tls-warnings\n",
      "  warnings.warn(\n",
      "c:\\Users\\Denilson\\AppData\\Local\\Programs\\Python\\Python312\\Lib\\site-packages\\urllib3\\connectionpool.py:1103: InsecureRequestWarning: Unverified HTTPS request is being made to host 'www.al.ba.gov.br'. Adding certificate verification is strongly advised. See: https://urllib3.readthedocs.io/en/latest/advanced-usage.html#tls-warnings\n",
      "  warnings.warn(\n"
     ]
    },
    {
     "name": "stdout",
     "output_type": "stream",
     "text": [
      "Entra na parte de busca sexo\n"
     ]
    },
    {
     "name": "stderr",
     "output_type": "stream",
     "text": [
      "c:\\Users\\Denilson\\AppData\\Local\\Programs\\Python\\Python312\\Lib\\site-packages\\urllib3\\connectionpool.py:1103: InsecureRequestWarning: Unverified HTTPS request is being made to host 'www.al.ba.gov.br'. Adding certificate verification is strongly advised. See: https://urllib3.readthedocs.io/en/latest/advanced-usage.html#tls-warnings\n",
      "  warnings.warn(\n",
      "c:\\Users\\Denilson\\AppData\\Local\\Programs\\Python\\Python312\\Lib\\site-packages\\urllib3\\connectionpool.py:1103: InsecureRequestWarning: Unverified HTTPS request is being made to host 'www.al.ba.gov.br'. Adding certificate verification is strongly advised. See: https://urllib3.readthedocs.io/en/latest/advanced-usage.html#tls-warnings\n",
      "  warnings.warn(\n"
     ]
    },
    {
     "name": "stdout",
     "output_type": "stream",
     "text": [
      "Entra na parte de busca sexo\n"
     ]
    },
    {
     "name": "stderr",
     "output_type": "stream",
     "text": [
      "c:\\Users\\Denilson\\AppData\\Local\\Programs\\Python\\Python312\\Lib\\site-packages\\urllib3\\connectionpool.py:1103: InsecureRequestWarning: Unverified HTTPS request is being made to host 'www.al.ba.gov.br'. Adding certificate verification is strongly advised. See: https://urllib3.readthedocs.io/en/latest/advanced-usage.html#tls-warnings\n",
      "  warnings.warn(\n",
      "c:\\Users\\Denilson\\AppData\\Local\\Programs\\Python\\Python312\\Lib\\site-packages\\urllib3\\connectionpool.py:1103: InsecureRequestWarning: Unverified HTTPS request is being made to host 'www.al.ba.gov.br'. Adding certificate verification is strongly advised. See: https://urllib3.readthedocs.io/en/latest/advanced-usage.html#tls-warnings\n",
      "  warnings.warn(\n"
     ]
    },
    {
     "name": "stdout",
     "output_type": "stream",
     "text": [
      "Entra na parte de busca sexo\n"
     ]
    },
    {
     "name": "stderr",
     "output_type": "stream",
     "text": [
      "c:\\Users\\Denilson\\AppData\\Local\\Programs\\Python\\Python312\\Lib\\site-packages\\urllib3\\connectionpool.py:1103: InsecureRequestWarning: Unverified HTTPS request is being made to host 'www.al.ba.gov.br'. Adding certificate verification is strongly advised. See: https://urllib3.readthedocs.io/en/latest/advanced-usage.html#tls-warnings\n",
      "  warnings.warn(\n",
      "c:\\Users\\Denilson\\AppData\\Local\\Programs\\Python\\Python312\\Lib\\site-packages\\urllib3\\connectionpool.py:1103: InsecureRequestWarning: Unverified HTTPS request is being made to host 'www.al.ba.gov.br'. Adding certificate verification is strongly advised. See: https://urllib3.readthedocs.io/en/latest/advanced-usage.html#tls-warnings\n",
      "  warnings.warn(\n",
      "c:\\Users\\Denilson\\AppData\\Local\\Programs\\Python\\Python312\\Lib\\site-packages\\urllib3\\connectionpool.py:1103: InsecureRequestWarning: Unverified HTTPS request is being made to host 'www.al.ba.gov.br'. Adding certificate verification is strongly advised. See: https://urllib3.readthedocs.io/en/latest/advanced-usage.html#tls-warnings\n",
      "  warnings.warn(\n"
     ]
    },
    {
     "name": "stdout",
     "output_type": "stream",
     "text": [
      "Entra na parte de busca sexo\n"
     ]
    },
    {
     "name": "stderr",
     "output_type": "stream",
     "text": [
      "c:\\Users\\Denilson\\AppData\\Local\\Programs\\Python\\Python312\\Lib\\site-packages\\urllib3\\connectionpool.py:1103: InsecureRequestWarning: Unverified HTTPS request is being made to host 'www.al.ba.gov.br'. Adding certificate verification is strongly advised. See: https://urllib3.readthedocs.io/en/latest/advanced-usage.html#tls-warnings\n",
      "  warnings.warn(\n",
      "c:\\Users\\Denilson\\AppData\\Local\\Programs\\Python\\Python312\\Lib\\site-packages\\urllib3\\connectionpool.py:1103: InsecureRequestWarning: Unverified HTTPS request is being made to host 'www.al.ba.gov.br'. Adding certificate verification is strongly advised. See: https://urllib3.readthedocs.io/en/latest/advanced-usage.html#tls-warnings\n",
      "  warnings.warn(\n"
     ]
    },
    {
     "name": "stdout",
     "output_type": "stream",
     "text": [
      "Entra na parte de busca sexo\n"
     ]
    },
    {
     "name": "stderr",
     "output_type": "stream",
     "text": [
      "c:\\Users\\Denilson\\AppData\\Local\\Programs\\Python\\Python312\\Lib\\site-packages\\urllib3\\connectionpool.py:1103: InsecureRequestWarning: Unverified HTTPS request is being made to host 'www.al.ba.gov.br'. Adding certificate verification is strongly advised. See: https://urllib3.readthedocs.io/en/latest/advanced-usage.html#tls-warnings\n",
      "  warnings.warn(\n",
      "c:\\Users\\Denilson\\AppData\\Local\\Programs\\Python\\Python312\\Lib\\site-packages\\urllib3\\connectionpool.py:1103: InsecureRequestWarning: Unverified HTTPS request is being made to host 'www.al.ba.gov.br'. Adding certificate verification is strongly advised. See: https://urllib3.readthedocs.io/en/latest/advanced-usage.html#tls-warnings\n",
      "  warnings.warn(\n"
     ]
    },
    {
     "name": "stdout",
     "output_type": "stream",
     "text": [
      "Entra na parte de busca sexo\n"
     ]
    },
    {
     "name": "stderr",
     "output_type": "stream",
     "text": [
      "c:\\Users\\Denilson\\AppData\\Local\\Programs\\Python\\Python312\\Lib\\site-packages\\urllib3\\connectionpool.py:1103: InsecureRequestWarning: Unverified HTTPS request is being made to host 'www.al.ba.gov.br'. Adding certificate verification is strongly advised. See: https://urllib3.readthedocs.io/en/latest/advanced-usage.html#tls-warnings\n",
      "  warnings.warn(\n",
      "c:\\Users\\Denilson\\AppData\\Local\\Programs\\Python\\Python312\\Lib\\site-packages\\urllib3\\connectionpool.py:1103: InsecureRequestWarning: Unverified HTTPS request is being made to host 'www.al.ba.gov.br'. Adding certificate verification is strongly advised. See: https://urllib3.readthedocs.io/en/latest/advanced-usage.html#tls-warnings\n",
      "  warnings.warn(\n"
     ]
    },
    {
     "name": "stdout",
     "output_type": "stream",
     "text": [
      "Entra na parte de busca sexo\n"
     ]
    },
    {
     "name": "stderr",
     "output_type": "stream",
     "text": [
      "c:\\Users\\Denilson\\AppData\\Local\\Programs\\Python\\Python312\\Lib\\site-packages\\urllib3\\connectionpool.py:1103: InsecureRequestWarning: Unverified HTTPS request is being made to host 'www.al.ba.gov.br'. Adding certificate verification is strongly advised. See: https://urllib3.readthedocs.io/en/latest/advanced-usage.html#tls-warnings\n",
      "  warnings.warn(\n",
      "c:\\Users\\Denilson\\AppData\\Local\\Programs\\Python\\Python312\\Lib\\site-packages\\urllib3\\connectionpool.py:1103: InsecureRequestWarning: Unverified HTTPS request is being made to host 'www.al.ba.gov.br'. Adding certificate verification is strongly advised. See: https://urllib3.readthedocs.io/en/latest/advanced-usage.html#tls-warnings\n",
      "  warnings.warn(\n"
     ]
    },
    {
     "name": "stdout",
     "output_type": "stream",
     "text": [
      "Entra na parte de busca sexo\n"
     ]
    },
    {
     "name": "stderr",
     "output_type": "stream",
     "text": [
      "c:\\Users\\Denilson\\AppData\\Local\\Programs\\Python\\Python312\\Lib\\site-packages\\urllib3\\connectionpool.py:1103: InsecureRequestWarning: Unverified HTTPS request is being made to host 'www.al.ba.gov.br'. Adding certificate verification is strongly advised. See: https://urllib3.readthedocs.io/en/latest/advanced-usage.html#tls-warnings\n",
      "  warnings.warn(\n",
      "c:\\Users\\Denilson\\AppData\\Local\\Programs\\Python\\Python312\\Lib\\site-packages\\urllib3\\connectionpool.py:1103: InsecureRequestWarning: Unverified HTTPS request is being made to host 'www.al.ba.gov.br'. Adding certificate verification is strongly advised. See: https://urllib3.readthedocs.io/en/latest/advanced-usage.html#tls-warnings\n",
      "  warnings.warn(\n"
     ]
    },
    {
     "name": "stdout",
     "output_type": "stream",
     "text": [
      "Entra na parte de busca sexo\n"
     ]
    },
    {
     "name": "stderr",
     "output_type": "stream",
     "text": [
      "c:\\Users\\Denilson\\AppData\\Local\\Programs\\Python\\Python312\\Lib\\site-packages\\urllib3\\connectionpool.py:1103: InsecureRequestWarning: Unverified HTTPS request is being made to host 'www.al.ba.gov.br'. Adding certificate verification is strongly advised. See: https://urllib3.readthedocs.io/en/latest/advanced-usage.html#tls-warnings\n",
      "  warnings.warn(\n",
      "c:\\Users\\Denilson\\AppData\\Local\\Programs\\Python\\Python312\\Lib\\site-packages\\urllib3\\connectionpool.py:1103: InsecureRequestWarning: Unverified HTTPS request is being made to host 'www.al.ba.gov.br'. Adding certificate verification is strongly advised. See: https://urllib3.readthedocs.io/en/latest/advanced-usage.html#tls-warnings\n",
      "  warnings.warn(\n"
     ]
    },
    {
     "name": "stdout",
     "output_type": "stream",
     "text": [
      "Entra na parte de busca sexo\n"
     ]
    },
    {
     "name": "stderr",
     "output_type": "stream",
     "text": [
      "c:\\Users\\Denilson\\AppData\\Local\\Programs\\Python\\Python312\\Lib\\site-packages\\urllib3\\connectionpool.py:1103: InsecureRequestWarning: Unverified HTTPS request is being made to host 'www.al.ba.gov.br'. Adding certificate verification is strongly advised. See: https://urllib3.readthedocs.io/en/latest/advanced-usage.html#tls-warnings\n",
      "  warnings.warn(\n",
      "c:\\Users\\Denilson\\AppData\\Local\\Programs\\Python\\Python312\\Lib\\site-packages\\urllib3\\connectionpool.py:1103: InsecureRequestWarning: Unverified HTTPS request is being made to host 'www.al.ba.gov.br'. Adding certificate verification is strongly advised. See: https://urllib3.readthedocs.io/en/latest/advanced-usage.html#tls-warnings\n",
      "  warnings.warn(\n"
     ]
    },
    {
     "name": "stdout",
     "output_type": "stream",
     "text": [
      "Entra na parte de busca sexo\n"
     ]
    },
    {
     "name": "stderr",
     "output_type": "stream",
     "text": [
      "c:\\Users\\Denilson\\AppData\\Local\\Programs\\Python\\Python312\\Lib\\site-packages\\urllib3\\connectionpool.py:1103: InsecureRequestWarning: Unverified HTTPS request is being made to host 'www.al.ba.gov.br'. Adding certificate verification is strongly advised. See: https://urllib3.readthedocs.io/en/latest/advanced-usage.html#tls-warnings\n",
      "  warnings.warn(\n",
      "c:\\Users\\Denilson\\AppData\\Local\\Programs\\Python\\Python312\\Lib\\site-packages\\urllib3\\connectionpool.py:1103: InsecureRequestWarning: Unverified HTTPS request is being made to host 'www.al.ba.gov.br'. Adding certificate verification is strongly advised. See: https://urllib3.readthedocs.io/en/latest/advanced-usage.html#tls-warnings\n",
      "  warnings.warn(\n"
     ]
    },
    {
     "name": "stdout",
     "output_type": "stream",
     "text": [
      "Entra na parte de busca sexo\n"
     ]
    },
    {
     "name": "stderr",
     "output_type": "stream",
     "text": [
      "c:\\Users\\Denilson\\AppData\\Local\\Programs\\Python\\Python312\\Lib\\site-packages\\urllib3\\connectionpool.py:1103: InsecureRequestWarning: Unverified HTTPS request is being made to host 'www.al.ba.gov.br'. Adding certificate verification is strongly advised. See: https://urllib3.readthedocs.io/en/latest/advanced-usage.html#tls-warnings\n",
      "  warnings.warn(\n",
      "c:\\Users\\Denilson\\AppData\\Local\\Programs\\Python\\Python312\\Lib\\site-packages\\urllib3\\connectionpool.py:1103: InsecureRequestWarning: Unverified HTTPS request is being made to host 'www.al.ba.gov.br'. Adding certificate verification is strongly advised. See: https://urllib3.readthedocs.io/en/latest/advanced-usage.html#tls-warnings\n",
      "  warnings.warn(\n",
      "c:\\Users\\Denilson\\AppData\\Local\\Programs\\Python\\Python312\\Lib\\site-packages\\urllib3\\connectionpool.py:1103: InsecureRequestWarning: Unverified HTTPS request is being made to host 'www.al.ba.gov.br'. Adding certificate verification is strongly advised. See: https://urllib3.readthedocs.io/en/latest/advanced-usage.html#tls-warnings\n",
      "  warnings.warn(\n"
     ]
    },
    {
     "name": "stdout",
     "output_type": "stream",
     "text": [
      "Entra na parte de busca sexo\n"
     ]
    },
    {
     "name": "stderr",
     "output_type": "stream",
     "text": [
      "c:\\Users\\Denilson\\AppData\\Local\\Programs\\Python\\Python312\\Lib\\site-packages\\urllib3\\connectionpool.py:1103: InsecureRequestWarning: Unverified HTTPS request is being made to host 'www.al.ba.gov.br'. Adding certificate verification is strongly advised. See: https://urllib3.readthedocs.io/en/latest/advanced-usage.html#tls-warnings\n",
      "  warnings.warn(\n",
      "c:\\Users\\Denilson\\AppData\\Local\\Programs\\Python\\Python312\\Lib\\site-packages\\urllib3\\connectionpool.py:1103: InsecureRequestWarning: Unverified HTTPS request is being made to host 'www.al.ba.gov.br'. Adding certificate verification is strongly advised. See: https://urllib3.readthedocs.io/en/latest/advanced-usage.html#tls-warnings\n",
      "  warnings.warn(\n"
     ]
    },
    {
     "name": "stdout",
     "output_type": "stream",
     "text": [
      "Entra na parte de busca sexo\n"
     ]
    },
    {
     "name": "stderr",
     "output_type": "stream",
     "text": [
      "c:\\Users\\Denilson\\AppData\\Local\\Programs\\Python\\Python312\\Lib\\site-packages\\urllib3\\connectionpool.py:1103: InsecureRequestWarning: Unverified HTTPS request is being made to host 'www.al.ba.gov.br'. Adding certificate verification is strongly advised. See: https://urllib3.readthedocs.io/en/latest/advanced-usage.html#tls-warnings\n",
      "  warnings.warn(\n",
      "c:\\Users\\Denilson\\AppData\\Local\\Programs\\Python\\Python312\\Lib\\site-packages\\urllib3\\connectionpool.py:1103: InsecureRequestWarning: Unverified HTTPS request is being made to host 'www.al.ba.gov.br'. Adding certificate verification is strongly advised. See: https://urllib3.readthedocs.io/en/latest/advanced-usage.html#tls-warnings\n",
      "  warnings.warn(\n"
     ]
    },
    {
     "name": "stdout",
     "output_type": "stream",
     "text": [
      "Entra na parte de busca sexo\n"
     ]
    },
    {
     "name": "stderr",
     "output_type": "stream",
     "text": [
      "c:\\Users\\Denilson\\AppData\\Local\\Programs\\Python\\Python312\\Lib\\site-packages\\urllib3\\connectionpool.py:1103: InsecureRequestWarning: Unverified HTTPS request is being made to host 'www.al.ba.gov.br'. Adding certificate verification is strongly advised. See: https://urllib3.readthedocs.io/en/latest/advanced-usage.html#tls-warnings\n",
      "  warnings.warn(\n",
      "c:\\Users\\Denilson\\AppData\\Local\\Programs\\Python\\Python312\\Lib\\site-packages\\urllib3\\connectionpool.py:1103: InsecureRequestWarning: Unverified HTTPS request is being made to host 'www.al.ba.gov.br'. Adding certificate verification is strongly advised. See: https://urllib3.readthedocs.io/en/latest/advanced-usage.html#tls-warnings\n",
      "  warnings.warn(\n"
     ]
    },
    {
     "name": "stdout",
     "output_type": "stream",
     "text": [
      "Entra na parte de busca sexo\n"
     ]
    },
    {
     "name": "stderr",
     "output_type": "stream",
     "text": [
      "c:\\Users\\Denilson\\AppData\\Local\\Programs\\Python\\Python312\\Lib\\site-packages\\urllib3\\connectionpool.py:1103: InsecureRequestWarning: Unverified HTTPS request is being made to host 'www.al.ba.gov.br'. Adding certificate verification is strongly advised. See: https://urllib3.readthedocs.io/en/latest/advanced-usage.html#tls-warnings\n",
      "  warnings.warn(\n",
      "c:\\Users\\Denilson\\AppData\\Local\\Programs\\Python\\Python312\\Lib\\site-packages\\urllib3\\connectionpool.py:1103: InsecureRequestWarning: Unverified HTTPS request is being made to host 'www.al.ba.gov.br'. Adding certificate verification is strongly advised. See: https://urllib3.readthedocs.io/en/latest/advanced-usage.html#tls-warnings\n",
      "  warnings.warn(\n",
      "c:\\Users\\Denilson\\AppData\\Local\\Programs\\Python\\Python312\\Lib\\site-packages\\urllib3\\connectionpool.py:1103: InsecureRequestWarning: Unverified HTTPS request is being made to host 'www.al.ba.gov.br'. Adding certificate verification is strongly advised. See: https://urllib3.readthedocs.io/en/latest/advanced-usage.html#tls-warnings\n",
      "  warnings.warn(\n"
     ]
    },
    {
     "name": "stdout",
     "output_type": "stream",
     "text": [
      "Entra na parte de busca sexo\n"
     ]
    },
    {
     "name": "stderr",
     "output_type": "stream",
     "text": [
      "c:\\Users\\Denilson\\AppData\\Local\\Programs\\Python\\Python312\\Lib\\site-packages\\urllib3\\connectionpool.py:1103: InsecureRequestWarning: Unverified HTTPS request is being made to host 'www.al.ba.gov.br'. Adding certificate verification is strongly advised. See: https://urllib3.readthedocs.io/en/latest/advanced-usage.html#tls-warnings\n",
      "  warnings.warn(\n",
      "c:\\Users\\Denilson\\AppData\\Local\\Programs\\Python\\Python312\\Lib\\site-packages\\urllib3\\connectionpool.py:1103: InsecureRequestWarning: Unverified HTTPS request is being made to host 'www.al.ba.gov.br'. Adding certificate verification is strongly advised. See: https://urllib3.readthedocs.io/en/latest/advanced-usage.html#tls-warnings\n",
      "  warnings.warn(\n"
     ]
    },
    {
     "name": "stdout",
     "output_type": "stream",
     "text": [
      "Entra na parte de busca sexo\n"
     ]
    }
   ],
   "source": [
    "# Define uma lista vazia para o array \n",
    "lista_url = []\n",
    "\n",
    "# Preenche o array com valores \n",
    "lista_url.append(\"https://www.al.ba.gov.br/deputados/todos-deputados\")\n",
    "lista_url.append(\"https://www.al.ba.gov.br/deputados/todos-deputados?&page=1&size=60\")\n",
    "lista_url.append(\"https://www.al.ba.gov.br/deputados/todos-deputados?inicio=1&quantidade=60&page=2&size=60\")\n",
    "lista_url.append(\"https://www.al.ba.gov.br/deputados/todos-deputados?inicio=2&quantidade=60&page=3&size=60\")\n",
    "\n",
    "lista_url.append(\"https://www.al.ba.gov.br/deputados/todos-deputados?inicio=3&quantidade=60&page=4&size=60\")\n",
    "lista_url.append(\"https://www.al.ba.gov.br/deputados/todos-deputados?inicio=4&quantidade=60&page=5&size=60\")\n",
    "lista_url.append(\"https://www.al.ba.gov.br/deputados/todos-deputados?inicio=5&quantidade=60&page=6&size=60\")\n",
    "lista_url.append(\"https://www.al.ba.gov.br/deputados/todos-deputados?inicio=6&quantidade=60&page=7&size=60\")\n",
    "\n",
    "lista_url.append(\"https://www.al.ba.gov.br/deputados/todos-deputados?inicio=7&quantidade=60&page=8&size=60\")\n",
    "lista_url.append(\"https://www.al.ba.gov.br/deputados/todos-deputados?inicio=8&quantidade=60&page=9&size=60\")\n",
    "lista_url.append(\"https://www.al.ba.gov.br/deputados/todos-deputados?inicio=9&quantidade=60&page=10&size=60\")\n",
    "lista_url.append(\"https://www.al.ba.gov.br/deputados/todos-deputados?inicio=10&quantidade=60&page=11&size=60\")\n",
    "lista_url.append(\"https://www.al.ba.gov.br/deputados/todos-deputados?inicio=11&quantidade=60&page=12&size=60\")\n",
    "\n",
    "\n",
    "campos = ['nome','nascimento','naturalidade','profissao','dados_filiacao','mandato_eletivo','escolaridade','url','id']\n",
    "\n",
    "\n",
    "\n",
    "\n",
    "# Define Caminho do Arquivo\n",
    "#file_result=\"D:\\\\PUC\\\\\\SPLIT_BANCO_DADOS\\\\dados_deputado_estadual.csv\"\n",
    "\n",
    "#with open(f'{file_result}', \"w\",newline='') as csv_file:    \n",
    "    #fields= strong_tags.text\n",
    "#    writer = csv.writer(csv_file,delimiter=';')\n",
    "#    writer.writerow(campos) \n",
    "contador = 0\n",
    "# Busca Todas as URL dos Deputados\n",
    "for url in lista_url:\n",
    "    contador = contador + 1\n",
    "\n",
    "    # Envia uma requisição HTTP para a URL\n",
    "    response = rq.get(url, verify=False)\n",
    "\n",
    "    # Analisa o conteúdo HTML da página\n",
    "    soup = bs(response.content, \"html.parser\")\n",
    "\n",
    "    # Encontra todos os links (tags <a>) com href começando com \"/deputados/deputado-estadual/\"\n",
    "    deputy_links = soup.find_all(\"a\", href=lambda href: href and href.startswith(\"/deputados/deputado-estadual/\"))\n",
    "\n",
    "    # Extrai os IDs de cada deputado a partir dos links\n",
    "    deputies_ids = [link[\"href\"].split(\"/\")[-1] for link in deputy_links]\n",
    "\n",
    "    # Busca os IDs de cada deputado\n",
    "\n",
    "    for deputy_id in deputies_ids:    \n",
    "        fields= f\"https://www.al.ba.gov.br/deputados/deputado-estadual/{deputy_id}\"\n",
    "\n",
    "        #print(fields)\n",
    "        # Busca pagina e os dados\n",
    "        response = rq.get(fields, verify=False)\n",
    "        soup = bs(response.content, \"html.parser\")\n",
    "\n",
    "        strong_tags = soup.find( class_=\"dados-deputado fe-text-size\")\n",
    "\n",
    "        span_tags = soup.find_all(\"span\")\n",
    "        \n",
    "        #pega mandato eletivo inicio\n",
    "        \n",
    "        response_2 = rq.get(fields, verify=False)\n",
    "        soup_mandato = bs(response_2.content, \"html.parser\")\n",
    "        dados_mandato = soup_mandato.find(class_='fe-dep-dados-ajsut-mobile' ).text\n",
    "\n",
    "        mandato_eletivo = dados_mandato\n",
    "        \n",
    "        inicio = mandato_eletivo.find(\"Mandato Eletivo\"   ) + 16 \n",
    "        fim = mandato_eletivo.find(\"Filiação Partidária\"   ) -3\n",
    "        dados_mandato_eletivo=str(mandato_eletivo[inicio:fim])\n",
    "        \n",
    "        mandato_eletivo_formatado = dados_mandato_eletivo\n",
    "        mandato_eletivo_formatado = mandato_eletivo_formatado.replace(\"\\n\", \"\")\n",
    "        mandato_eletivo_formatado = mandato_eletivo_formatado.replace(\";\", \",\")\n",
    "\n",
    "        \n",
    "        #pega mandato eletivo fim\n",
    "        \n",
    "        #pega dados de escolaridade inicio\n",
    "        escolaridade =  dados_mandato\n",
    "\n",
    "        inicio = escolaridade.find(\"Formação Educacional\"   ) + 21 \n",
    "\n",
    "        fim = escolaridade.find(\"Atividade Profissional\"   ) -3\n",
    "\n",
    "        if inicio == 20:\n",
    "            dados_escolaridade =''\n",
    "        elif fim == -4:\n",
    "            fim = escolaridade.find(\"Mandato Eletivo Eleito\" ) -3\n",
    "            if  fim == -4:\n",
    "                dados_escolaridade =''\n",
    "\n",
    "            else:\n",
    "\n",
    "                dados_escolaridade=str(escolaridade[inicio:fim])    \n",
    "        else:\n",
    "            dados_escolaridade=str(escolaridade[inicio:fim])\n",
    "        \n",
    "        dados_escolaridade = dados_escolaridade.replace(\"\\n\", \"\")\n",
    "        dados_escolaridade = dados_escolaridade.replace(\";\", \",\")\n",
    "        #print(dados_escolaridade)\n",
    "        \n",
    "        #pega dados de escolaridade fim\n",
    "        \n",
    "        campos[5]=mandato_eletivo_formatado\n",
    "        campos[6]=dados_escolaridade\n",
    "        campos[7]=fields\n",
    "        campos[8]=deputy_id\n",
    "        \n",
    "        dados = strong_tags.text\n",
    "        carrega_dados(dados)\n",
    "        \n",
    "\n",
    "\n",
    "  \n",
    "\n",
    "\n",
    "    \n",
    "        \n",
    "        \n"
   ]
  }
 ],
 "metadata": {
  "kernelspec": {
   "display_name": "Python 3",
   "language": "python",
   "name": "python3"
  },
  "language_info": {
   "codemirror_mode": {
    "name": "ipython",
    "version": 3
   },
   "file_extension": ".py",
   "mimetype": "text/x-python",
   "name": "python",
   "nbconvert_exporter": "python",
   "pygments_lexer": "ipython3",
   "version": "3.12.3"
  }
 },
 "nbformat": 4,
 "nbformat_minor": 2
}
